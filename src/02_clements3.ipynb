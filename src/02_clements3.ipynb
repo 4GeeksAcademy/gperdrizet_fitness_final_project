{
 "cells": [
  {
   "cell_type": "markdown",
   "id": "3aedab6a",
   "metadata": {},
   "source": [
    "# Data preparation"
   ]
  },
  {
   "cell_type": "code",
   "execution_count": null,
   "id": "07869300",
   "metadata": {},
   "outputs": [],
   "source": [
    "import pickle\n",
    "from pathlib import Path\n",
    "\n",
    "import numpy as np\n",
    "import pandas as pd\n",
    "import seaborn as sns\n",
    "import matplotlib.pyplot as plt\n",
    "from sklearn.model_selection import cross_val_score, GridSearchCV\n",
    "from sklearn.metrics import accuracy_score, confusion_matrix, ConfusionMatrixDisplay\n",
    "from sklearn.linear_model import LogisticRegression\n",
    "from sklearn.ensemble import GradientBoostingRegressor\n",
    "from sklearn.preprocessing import OrdinalEncoder\n",
    "from sklearn.model_selection import train_test_split"
   ]
  },
  {
   "cell_type": "markdown",
   "id": "178e1915",
   "metadata": {},
   "source": [
    "## 1. Load raw data"
   ]
  },
  {
   "cell_type": "code",
   "execution_count": 2,
   "id": "4de6c94a",
   "metadata": {},
   "outputs": [
    {
     "name": "stdout",
     "output_type": "stream",
     "text": [
      "    User_ID  Calories\n",
      "0  14733363     231.0\n",
      "1  14861698      66.0\n",
      "2  11179863      26.0\n",
      "3  16180408      71.0\n",
      "4  17771927      35.0\n",
      "    User_ID  Gender  Age  Height  Weight  Duration  Heart_Rate  Body_Temp\n",
      "0  14733363    male   68   190.0    94.0      29.0       105.0       40.8\n",
      "1  14861698  female   20   166.0    60.0      14.0        94.0       40.3\n",
      "2  11179863    male   69   179.0    79.0       5.0        88.0       38.7\n",
      "3  16180408  female   34   179.0    71.0      13.0       100.0       40.5\n",
      "4  17771927  female   27   154.0    58.0      10.0        81.0       39.8\n"
     ]
    }
   ],
   "source": [
    "calories=pd.read_csv('../data/raw/calories.csv')\n",
    "exercise=pd.read_csv('../data/raw/exercise.csv')\n",
    "\n",
    "print(calories.head())\n",
    "print(exercise.head())"
   ]
  },
  {
   "cell_type": "code",
   "execution_count": 3,
   "id": "a0f32272",
   "metadata": {},
   "outputs": [
    {
     "name": "stdout",
     "output_type": "stream",
     "text": [
      "    User_ID  Calories  Gender  Age  Height  Weight  Duration  Heart_Rate  \\\n",
      "0  14733363     231.0    male   68   190.0    94.0      29.0       105.0   \n",
      "1  14861698      66.0  female   20   166.0    60.0      14.0        94.0   \n",
      "2  11179863      26.0    male   69   179.0    79.0       5.0        88.0   \n",
      "3  16180408      71.0  female   34   179.0    71.0      13.0       100.0   \n",
      "4  17771927      35.0  female   27   154.0    58.0      10.0        81.0   \n",
      "\n",
      "   Body_Temp  \n",
      "0       40.8  \n",
      "1       40.3  \n",
      "2       38.7  \n",
      "3       40.5  \n",
      "4       39.8  \n"
     ]
    }
   ],
   "source": [
    "# Merge datasets on 'User_ID'\n",
    "newData_df = pd.merge(calories, exercise, on='User_ID', how='inner')  # Using inner join\n",
    "\n",
    "# Preview merged data\n",
    "print(newData_df.head())\n",
    "\n",
    "# Save merged dataset\n",
    "newData_df.to_csv('../data/raw/mergedNew_data.csv', index=False)"
   ]
  },
  {
   "cell_type": "markdown",
   "id": "0832b038",
   "metadata": {},
   "source": [
    "## 2. Select features"
   ]
  },
  {
   "cell_type": "code",
   "execution_count": 4,
   "id": "e2c4bce8",
   "metadata": {},
   "outputs": [
    {
     "name": "stdout",
     "output_type": "stream",
     "text": [
      "<class 'pandas.core.frame.DataFrame'>\n",
      "RangeIndex: 15000 entries, 0 to 14999\n",
      "Data columns (total 9 columns):\n",
      " #   Column      Non-Null Count  Dtype  \n",
      "---  ------      --------------  -----  \n",
      " 0   User_ID     15000 non-null  int64  \n",
      " 1   Calories    15000 non-null  float64\n",
      " 2   Gender      15000 non-null  object \n",
      " 3   Age         15000 non-null  int64  \n",
      " 4   Height      15000 non-null  float64\n",
      " 5   Weight      15000 non-null  float64\n",
      " 6   Duration    15000 non-null  float64\n",
      " 7   Heart_Rate  15000 non-null  float64\n",
      " 8   Body_Temp   15000 non-null  float64\n",
      "dtypes: float64(6), int64(2), object(1)\n",
      "memory usage: 1.0+ MB\n"
     ]
    }
   ],
   "source": [
    "newData_df.info()"
   ]
  },
  {
   "cell_type": "markdown",
   "id": "1b9277c6",
   "metadata": {},
   "source": [
    "Given some self-report biometrics from the user we will build two models that do the following depending on user input:\n",
    "\n",
    "1. Take workout duration and predict calorie burn for each workout type (i.e. 'I am going to work out for X minutes, how many calories will I burn?').\n",
    "2. Take calorie burn and predict duration for each workout type (i.e., 'I want to burn X calories, how long do I need to work out for?').\n",
    "\n",
    "Both models will share a set of input 'biometric' features. These must be things the user is likely to know about themselves. People probably know their weight and age, but probably don't know their VO2 max.\n",
    "\n",
    "The models will differ in one of their input features and their output:\n",
    "\n",
    "1. `calorie_model` needs to take workout duration + biometrics as input features and predict calories burned.\n",
    "2. `time_model` needs to take calories burned + biometrics as input features and predict workout duration. \n",
    "\n",
    "We will use dictionaries to keep everything organized"
   ]
  },
  {
   "cell_type": "code",
   "execution_count": 5,
   "id": "59769762",
   "metadata": {},
   "outputs": [],
   "source": [
    "biometric_features=[\n",
    "    'Age', 'Gender', 'Height', 'Weight'\n",
    "]\n",
    "\n",
    "input_features={\n",
    "    'calorie_model': ['Duration'] + biometric_features,\n",
    "    'time_model': ['Calories Burned'] + biometric_features\n",
    "}\n",
    "\n",
    "output_features={\n",
    "    'calorie_model': 'Calories',\n",
    "    'time_model': 'Duration'\n",
    "}"
   ]
  },
  {
   "cell_type": "markdown",
   "id": "2620fd11",
   "metadata": {},
   "source": [
    "## 3. Encode categorical features"
   ]
  },
  {
   "cell_type": "code",
   "execution_count": 6,
   "id": "4cf068d4",
   "metadata": {},
   "outputs": [
    {
     "name": "stdout",
     "output_type": "stream",
     "text": [
      "    User_ID  Calories  Gender  Age  Height  Weight  Duration  Heart_Rate  \\\n",
      "0  14733363     231.0     0.0   68   190.0    94.0      29.0       105.0   \n",
      "1  14861698      66.0     1.0   20   166.0    60.0      14.0        94.0   \n",
      "2  11179863      26.0     0.0   69   179.0    79.0       5.0        88.0   \n",
      "3  16180408      71.0     1.0   34   179.0    71.0      13.0       100.0   \n",
      "4  17771927      35.0     1.0   27   154.0    58.0      10.0        81.0   \n",
      "\n",
      "   Body_Temp  \n",
      "0       40.8  \n",
      "1       40.3  \n",
      "2       38.7  \n",
      "3       40.5  \n",
      "4       39.8  \n"
     ]
    }
   ],
   "source": [
    "# Your code here... I recommend sklearn's OrdinalEncoder to start with because it will let us keep the \n",
    "# number/names of features constant. We can experiment with improving encoding later if we have time.\n",
    "\n",
    "categorical_features=['Gender']\n",
    "\n",
    "# Extract unique values from categorical features\n",
    "categories_list = [\n",
    "    newData_df[\"Gender\"].unique().tolist(),\n",
    "]\n",
    "\n",
    "# Apply dynamic categories to OrdinalEncoder\n",
    "encoder = OrdinalEncoder(categories=categories_list)\n",
    "\n",
    "# Apply encoding to categorical columns\n",
    "df_encoded = newData_df.copy()  # Keep original dataframe\n",
    "df_encoded[categorical_features] = encoder.fit_transform(newData_df[categorical_features])\n",
    "\n",
    "print(df_encoded.head())  # Check encoded values"
   ]
  },
  {
   "cell_type": "markdown",
   "id": "883a7f42",
   "metadata": {},
   "source": [
    "## 4. Train-test split"
   ]
  },
  {
   "cell_type": "code",
   "execution_count": 7,
   "id": "943ad6c2",
   "metadata": {},
   "outputs": [
    {
     "name": "stdout",
     "output_type": "stream",
     "text": [
      "Train Data Shape: (12000, 9)\n",
      "Test Data Shape: (3000, 9)\n"
     ]
    }
   ],
   "source": [
    "# Your code here....\n",
    "def split_data(df, test_size=0.2, random_state=42):\n",
    "    \"\"\"Splits the dataset into train_df and test_df.\"\"\"\n",
    "    train_df, test_df = train_test_split(df, test_size=test_size, random_state=random_state)\n",
    "    return train_df, test_df\n",
    "\n",
    "# Apply the split\n",
    "train_df, test_df = split_data(df_encoded)\n",
    "\n",
    "# Confirm the split sizes\n",
    "print(f\"Train Data Shape: {train_df.shape}\")\n",
    "print(f\"Test Data Shape: {test_df.shape}\")"
   ]
  },
  {
   "cell_type": "code",
   "execution_count": 8,
   "id": "094c5dc9",
   "metadata": {},
   "outputs": [],
   "source": [
    "target_col = 'Calories'\n",
    "X = df_encoded.drop(columns=[target_col])\n",
    "y = df_encoded[target_col]\n",
    "\n",
    "\n",
    "X_train, X_test, y_train, y_test = train_test_split(X, y, random_state=42)"
   ]
  },
  {
   "cell_type": "code",
   "execution_count": 9,
   "id": "03959434",
   "metadata": {},
   "outputs": [
    {
     "name": "stdout",
     "output_type": "stream",
     "text": [
      "(11250, 8)\n",
      "(11250,)\n"
     ]
    }
   ],
   "source": [
    "print(X_train.shape)\n",
    "print(y_train.shape)"
   ]
  },
  {
   "cell_type": "code",
   "execution_count": 10,
   "id": "e3551ac4",
   "metadata": {},
   "outputs": [
    {
     "name": "stdout",
     "output_type": "stream",
     "text": [
      "R² of gradient boosting model: 0.9970\n"
     ]
    }
   ],
   "source": [
    "from sklearn.ensemble import GradientBoostingRegressor\n",
    "from sklearn.metrics import r2_score\n",
    "\n",
    "model = GradientBoostingRegressor(random_state=42)\n",
    "model.fit(X_train, y_train)\n",
    "\n",
    "y_pred = model.predict(X_train)\n",
    "r2 = r2_score(y_train, y_pred)\n",
    "\n",
    "print(f'R² of gradient boosting model: {r2:.4f}')"
   ]
  },
  {
   "cell_type": "code",
   "execution_count": 11,
   "id": "1ff9011e",
   "metadata": {},
   "outputs": [
    {
     "name": "stdout",
     "output_type": "stream",
     "text": [
      "Cross-validation accuracy: 99.6% +/- 0.0%\n"
     ]
    }
   ],
   "source": [
    "\n",
    "scores=cross_val_score(\n",
    "    model,\n",
    "    X_train,\n",
    "    y_train,\n",
    "    cv=7,\n",
    "    n_jobs=-1\n",
    ")\n",
    "\n",
    "\n",
    "print(f'Cross-validation accuracy: {np.mean(scores)*100:.1f}% +/- {np.std(scores)*100:.1f}%')"
   ]
  },
  {
   "cell_type": "code",
   "execution_count": 12,
   "id": "19280124",
   "metadata": {},
   "outputs": [
    {
     "name": "stdout",
     "output_type": "stream",
     "text": [
      "Best hyperparameters:\n",
      "\n",
      " ccp_alpha: 0.001\n",
      " criterion: friedman_mse\n",
      " max_depth: 4\n",
      " max_features: 0.5\n",
      " min_samples_split: 2\n",
      " min_weight_fraction_leaf: 0.001\n",
      " n_estimators: 300\n",
      "\n"
     ]
    }
   ],
   "source": [
    "hyperparameters={\n",
    "    'n_estimators':[200, 300],\n",
    "    'criterion':['friedman_mse', 'squared_error'],\n",
    "    'max_depth':[4,8],\n",
    "    'min_samples_split':[2,4,8],\n",
    "    'min_weight_fraction_leaf':[0.001,0.01,0.1],\n",
    "    'max_features':[0.25,0.5],\n",
    "    'ccp_alpha':[0.001,0.01],\n",
    "}\n",
    "\n",
    "search=GridSearchCV(\n",
    "    model,\n",
    "    hyperparameters,\n",
    "    return_train_score=True,\n",
    "    cv=3,\n",
    "    n_jobs=-1\n",
    ")\n",
    "\n",
    "search_results=search.fit(X_train, y_train)\n",
    "model=search_results.best_estimator_\n",
    "hyperparameters=search_results.best_params_\n",
    "\n",
    "print('Best hyperparameters:\\n')\n",
    "\n",
    "for key, value in search_results.best_params_.items():\n",
    "    print(f' {key}: {value}')\n",
    "\n",
    "print()"
   ]
  },
  {
   "cell_type": "code",
   "execution_count": 13,
   "id": "412a6c25",
   "metadata": {},
   "outputs": [
    {
     "data": {
      "image/png": "[encoded data removed]",
      "text/plain": [
       "<Figure size 640x480 with 1 Axes>"
      ]
     },
     "metadata": {},
     "output_type": "display_data"
    }
   ],
   "source": [
    "import function as funcs\n",
    "funcs.plot_cross_validation(search_results)"
   ]
  },
  {
   "cell_type": "code",
   "execution_count": 14,
   "id": "0aec830f",
   "metadata": {},
   "outputs": [
    {
     "name": "stdout",
     "output_type": "stream",
     "text": [
      "R² score: 0.9988\n",
      "Root Mean Squared Error: 2.2095\n"
     ]
    }
   ],
   "source": [
    "from sklearn.metrics import mean_squared_error, r2_score\n",
    "\n",
    "\n",
    "model = GradientBoostingRegressor(**hyperparameters, random_state=42)\n",
    "\n",
    "\n",
    "model.fit(X_train, y_train)\n",
    "\n",
    "\n",
    "y_pred = model.predict(X_test)\n",
    "\n",
    "\n",
    "r2 = r2_score(y_test, y_pred)\n",
    "rmse = np.sqrt(mean_squared_error(y_test, y_pred))\n",
    "\n",
    "print(f'R² score: {r2:.4f}')\n",
    "print(f'Root Mean Squared Error: {rmse:.4f}')"
   ]
  },
  {
   "cell_type": "markdown",
   "id": "2e82be20",
   "metadata": {},
   "source": [
    "### Now going to train Model for Duration to be the output"
   ]
  },
  {
   "cell_type": "code",
   "execution_count": 15,
   "id": "75264835",
   "metadata": {},
   "outputs": [],
   "source": [
    "target_col = 'Duration'\n",
    "X = df_encoded.drop(columns=[target_col])\n",
    "y = df_encoded[target_col]\n",
    "\n",
    "\n",
    "X_train, X_test, y_train, y_test = train_test_split(X, y, random_state=42)"
   ]
  },
  {
   "cell_type": "code",
   "execution_count": 16,
   "id": "04914267",
   "metadata": {},
   "outputs": [
    {
     "name": "stdout",
     "output_type": "stream",
     "text": [
      "R² of gradient boosting model: 0.9889\n"
     ]
    }
   ],
   "source": [
    "from sklearn.ensemble import GradientBoostingRegressor\n",
    "from sklearn.metrics import r2_score\n",
    "\n",
    "model = GradientBoostingRegressor(random_state=42)\n",
    "model.fit(X_train, y_train)\n",
    "\n",
    "y_pred = model.predict(X_train)\n",
    "r2 = r2_score(y_train, y_pred)\n",
    "\n",
    "print(f'R² of gradient boosting model: {r2:.4f}')"
   ]
  },
  {
   "cell_type": "code",
   "execution_count": 17,
   "id": "24061e18",
   "metadata": {},
   "outputs": [
    {
     "name": "stdout",
     "output_type": "stream",
     "text": [
      "Cross-validation accuracy: 98.8% +/- 0.0%\n"
     ]
    }
   ],
   "source": [
    "\n",
    "scores=cross_val_score(\n",
    "    model,\n",
    "    X_train,\n",
    "    y_train,\n",
    "    cv=7,\n",
    "    n_jobs=-1\n",
    ")\n",
    "\n",
    "\n",
    "print(f'Cross-validation accuracy: {np.mean(scores)*100:.1f}% +/- {np.std(scores)*100:.1f}%')"
   ]
  },
  {
   "cell_type": "code",
   "execution_count": 18,
   "id": "82efd9ea",
   "metadata": {},
   "outputs": [
    {
     "name": "stdout",
     "output_type": "stream",
     "text": [
      "Best hyperparameters:\n",
      "\n",
      " ccp_alpha: 0.001\n",
      " criterion: friedman_mse\n",
      " max_depth: 4\n",
      " max_features: 0.5\n",
      " min_samples_split: 2\n",
      " min_weight_fraction_leaf: 0.001\n",
      " n_estimators: 300\n",
      "\n"
     ]
    }
   ],
   "source": [
    "hyperparameters={\n",
    "    'n_estimators':[200, 300],\n",
    "    'criterion':['friedman_mse', 'squared_error'],\n",
    "    'max_depth':[4,8],\n",
    "    'min_samples_split':[2,4,8],\n",
    "    'min_weight_fraction_leaf':[0.001,0.01,0.1],\n",
    "    'max_features':[0.25,0.5],\n",
    "    'ccp_alpha':[0.001,0.01],\n",
    "}\n",
    "\n",
    "search=GridSearchCV(\n",
    "    model,\n",
    "    hyperparameters,\n",
    "    return_train_score=True,\n",
    "    cv=3,\n",
    "    n_jobs=-1\n",
    ")\n",
    "\n",
    "search_results=search.fit(X_train, y_train)\n",
    "model=search_results.best_estimator_\n",
    "hyperparameters=search_results.best_params_\n",
    "\n",
    "print('Best hyperparameters:\\n')\n",
    "\n",
    "for key, value in search_results.best_params_.items():\n",
    "    print(f' {key}: {value}')\n",
    "\n",
    "print()"
   ]
  },
  {
   "cell_type": "code",
   "execution_count": 19,
   "id": "cb7deb27",
   "metadata": {},
   "outputs": [
    {
     "data": {
      "image/png": "[encoded data removed]",
      "text/plain": [
       "<Figure size 640x480 with 1 Axes>"
      ]
     },
     "metadata": {},
     "output_type": "display_data"
    }
   ],
   "source": [
    "import function as funcs\n",
    "funcs.plot_cross_validation(search_results)"
   ]
  },
  {
   "cell_type": "code",
   "execution_count": 20,
   "id": "8fceb99d",
   "metadata": {},
   "outputs": [
    {
     "name": "stdout",
     "output_type": "stream",
     "text": [
      "R² score: 0.9946\n",
      "Root Mean Squared Error: 0.6131\n"
     ]
    }
   ],
   "source": [
    "from sklearn.metrics import mean_squared_error, r2_score\n",
    "\n",
    "\n",
    "model = GradientBoostingRegressor(**hyperparameters, random_state=42)\n",
    "\n",
    "\n",
    "model.fit(X_train, y_train)\n",
    "\n",
    "\n",
    "y_pred = model.predict(X_test)\n",
    "\n",
    "\n",
    "r2 = r2_score(y_test, y_pred)\n",
    "rmse = np.sqrt(mean_squared_error(y_test, y_pred))\n",
    "\n",
    "print(f'R² score: {r2:.4f}')\n",
    "print(f'Root Mean Squared Error: {rmse:.4f}')"
   ]
  },
  {
   "cell_type": "code",
   "execution_count": null,
   "id": "26ae2311",
   "metadata": {},
   "outputs": [],
   "source": []
  },
  {
   "cell_type": "code",
   "execution_count": null,
   "id": "49741ef0",
   "metadata": {},
   "outputs": [],
   "source": []
  },
  {
   "cell_type": "markdown",
   "id": "bd75ad5d",
   "metadata": {},
   "source": [
    "## 5. Save assets"
   ]
  },
  {
   "cell_type": "code",
   "execution_count": 24,
   "id": "7bbc6053",
   "metadata": {},
   "outputs": [],
   "source": [
    "# Feature information\n",
    "with open('../data/biometric_features.pkl', 'wb') as output_file:\n",
    "    pickle.dump(biometric_features, output_file)\n",
    "\n",
    "with open('../data/input_features.pkl', 'wb') as output_file:\n",
    "    pickle.dump(input_features, output_file)\n",
    "\n",
    "with open('../data/output_features.pkl', 'wb') as output_file:\n",
    "    pickle.dump(output_features, output_file)\n",
    "\n",
    "with open('../data/categorical_features.pkl', 'wb') as output_file:\n",
    "    pickle.dump(categorical_features, output_file)\n",
    "\n",
    "# Data\n",
    "Path('../data/processed').mkdir(exist_ok=True)\n",
    "\n",
    "with open('../data/processed/all.pkl', 'wb') as output_file:\n",
    "    pickle.dump(newData_df, output_file)\n",
    "\n",
    "with open('../data/processed/train.pkl', 'wb') as output_file:\n",
    "    pickle.dump(train_df, output_file)\n",
    "\n",
    "with open('../data/processed/test.pkl', 'wb') as output_file:\n",
    "    pickle.dump(test_df, output_file)\n",
    "\n",
    "# Optimized hyperparameters\n",
    "with open('../data/processed/hyperparameters.pkl', 'wb' ) as input_file:\n",
    "    pickle.dump(hyperparameters, input_file) \n"
   ]
  }
 ],
 "metadata": {
  "kernelspec": {
   "display_name": "Python 3",
   "language": "python",
   "name": "python3"
  },
  "language_info": {
   "codemirror_mode": {
    "name": "ipython",
    "version": 3
   },
   "file_extension": ".py",
   "mimetype": "text/x-python",
   "name": "python",
   "nbconvert_exporter": "python",
   "pygments_lexer": "ipython3",
   "version": "3.11.4"
  }
 },
 "nbformat": 4,
 "nbformat_minor": 5
}
