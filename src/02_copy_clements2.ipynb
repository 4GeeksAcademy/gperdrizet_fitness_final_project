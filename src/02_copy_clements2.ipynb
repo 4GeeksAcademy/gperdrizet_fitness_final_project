{
 "cells": [
  {
   "cell_type": "markdown",
   "id": "3aedab6a",
   "metadata": {},
   "source": [
    "# Data preparation"
   ]
  },
  {
   "cell_type": "code",
   "execution_count": 70,
   "id": "07869300",
   "metadata": {},
   "outputs": [],
   "source": [
    "import pickle\n",
    "import numpy as np\n",
    "import pandas as pd\n",
    "import seaborn as sns\n",
    "import matplotlib.pyplot as plt\n",
    "from sklearn.model_selection import cross_val_score, GridSearchCV\n",
    "from sklearn.metrics import accuracy_score, confusion_matrix, ConfusionMatrixDisplay\n",
    "from sklearn.linear_model import LogisticRegression\n",
    "from sklearn.ensemble import GradientBoostingRegressor\n"
   ]
  },
  {
   "cell_type": "markdown",
   "id": "178e1915",
   "metadata": {},
   "source": [
    "## 1. Load raw data"
   ]
  },
  {
   "cell_type": "code",
   "execution_count": 71,
   "id": "4de6c94a",
   "metadata": {},
   "outputs": [],
   "source": [
    "data_df=pd.read_csv('../data/raw/workout_fitness_tracker_data.csv')"
   ]
  },
  {
   "cell_type": "markdown",
   "id": "0832b038",
   "metadata": {},
   "source": [
    "## 2. Select features"
   ]
  },
  {
   "cell_type": "code",
   "execution_count": 72,
   "id": "e2c4bce8",
   "metadata": {},
   "outputs": [
    {
     "name": "stdout",
     "output_type": "stream",
     "text": [
      "<class 'pandas.core.frame.DataFrame'>\n",
      "RangeIndex: 10000 entries, 0 to 9999\n",
      "Data columns (total 20 columns):\n",
      " #   Column                    Non-Null Count  Dtype  \n",
      "---  ------                    --------------  -----  \n",
      " 0   User ID                   10000 non-null  int64  \n",
      " 1   Age                       10000 non-null  int64  \n",
      " 2   Gender                    10000 non-null  object \n",
      " 3   Height (cm)               10000 non-null  int64  \n",
      " 4   Weight (kg)               10000 non-null  int64  \n",
      " 5   Workout Type              10000 non-null  object \n",
      " 6   Workout Duration (mins)   10000 non-null  int64  \n",
      " 7   Calories Burned           10000 non-null  int64  \n",
      " 8   Heart Rate (bpm)          10000 non-null  int64  \n",
      " 9   Steps Taken               10000 non-null  int64  \n",
      " 10  Distance (km)             10000 non-null  float64\n",
      " 11  Workout Intensity         10000 non-null  object \n",
      " 12  Sleep Hours               10000 non-null  float64\n",
      " 13  Water Intake (liters)     10000 non-null  float64\n",
      " 14  Daily Calories Intake     10000 non-null  int64  \n",
      " 15  Resting Heart Rate (bpm)  10000 non-null  int64  \n",
      " 16  VO2 Max                   10000 non-null  float64\n",
      " 17  Body Fat (%)              10000 non-null  float64\n",
      " 18  Mood Before Workout       10000 non-null  object \n",
      " 19  Mood After Workout        10000 non-null  object \n",
      "dtypes: float64(5), int64(10), object(5)\n",
      "memory usage: 1.5+ MB\n"
     ]
    }
   ],
   "source": [
    "data_df.info()\n",
    "\n"
   ]
  },
  {
   "cell_type": "markdown",
   "id": "1b9277c6",
   "metadata": {},
   "source": [
    "Given some self-report biometrics from the user we will build two models that do the following depending on user input:\n",
    "\n",
    "1. Take workout duration and predict calorie burn for each workout type (i.e. 'I am going to work out for X minutes, how many calories will I burn?').\n",
    "2. Take calorie burn and predict duration for each workout type (i.e., 'I want to burn X calories, how long do I need to work out for?').\n",
    "\n",
    "Both models will share a set of input 'biometric' features. These must be things the user is likely to know about themselves. People probably know their weight and age, but probably don't know their VO2 max.\n",
    "\n",
    "The models will differ in one of their input features and their output:\n",
    "\n",
    "1. `calorie_model` needs to take workout duration + biometrics as input features and predict calories burned.\n",
    "2. `time_model` needs to take calories burned + biometrics as input features and predict workout duration. \n",
    "\n",
    "We will use dictionaries to keep everything organized"
   ]
  },
  {
   "cell_type": "code",
   "execution_count": 73,
   "id": "592e916b",
   "metadata": {},
   "outputs": [],
   "source": [
    "categorical_features=['Workout Type', 'Gender', 'Workout Intensity', 'Mood Before Workout', 'Mood After Workout']\n"
   ]
  },
  {
   "cell_type": "code",
   "execution_count": 74,
   "id": "59769762",
   "metadata": {},
   "outputs": [],
   "source": [
    "biometric_features=[\n",
    "    'Age',\n",
    "    'Height (cm)',\n",
    "    'Weight (kg)',\n",
    "    'Sleep Hours',\n",
    "    'Resting Heart Rate (bpm)',\n",
    "]\n",
    "\n",
    "input_features={\n",
    "    'calorie_model': 'Workout Duration (mins)',\n",
    "    'time_model': 'Calories Burned'\n",
    "}\n",
    "\n",
    "output_features={\n",
    "    'calorie_model': 'Calories Burned',\n",
    "    'time_model': 'Workout Duration (mins)'\n",
    "}"
   ]
  },
  {
   "cell_type": "markdown",
   "id": "2620fd11",
   "metadata": {},
   "source": [
    "## 3. Encode categorical features"
   ]
  },
  {
   "cell_type": "code",
   "execution_count": 75,
   "id": "6b8bc510",
   "metadata": {},
   "outputs": [
    {
     "name": "stdout",
     "output_type": "stream",
     "text": [
      "[Workout Type           6\n",
      "Gender                 3\n",
      "Workout Intensity      3\n",
      "Mood Before Workout    4\n",
      "Mood After Workout     3\n",
      "dtype: int64]\n"
     ]
    }
   ],
   "source": [
    "print([df[categorical_features].nunique() for df in [data_df]])"
   ]
  },
  {
   "cell_type": "code",
   "execution_count": 76,
   "id": "74711eec",
   "metadata": {},
   "outputs": [
    {
     "name": "stdout",
     "output_type": "stream",
     "text": [
      "   Workout Type  Gender  Workout Intensity  Mood Before Workout  \\\n",
      "0             1       1                  0                    3   \n",
      "1             0       2                  0                    0   \n",
      "2             2       0                  0                    0   \n",
      "3             1       1                  2                    1   \n",
      "4             4       2                  2                    2   \n",
      "\n",
      "   Mood After Workout  \n",
      "0                   1  \n",
      "1                   0  \n",
      "2                   1  \n",
      "3                   2  \n",
      "4                   0  \n"
     ]
    }
   ],
   "source": [
    "from sklearn.preprocessing import OrdinalEncoder\n",
    "\n",
    "df_encoded = data_df.copy()\n",
    "\n",
    "# Fit and transform only the categorical features\n",
    "encoder = OrdinalEncoder()\n",
    "encoded_values = encoder.fit_transform(data_df[categorical_features])\n",
    "\n",
    "# Convert encoded values to int and assign back\n",
    "df_encoded[categorical_features] = encoded_values.astype(int)\n",
    "\n",
    "# Preview\n",
    "print(df_encoded[categorical_features].head())"
   ]
  },
  {
   "cell_type": "code",
   "execution_count": 77,
   "id": "ba10ff1c",
   "metadata": {},
   "outputs": [],
   "source": [
    "df_encoded = df_encoded.drop(columns=['Water Intake (liters)', 'VO2 Max', 'Body Fat (%)'], axis=1)"
   ]
  },
  {
   "cell_type": "code",
   "execution_count": 93,
   "id": "a44a467e",
   "metadata": {},
   "outputs": [
    {
     "ename": "KeyError",
     "evalue": "\"['User ID'] not found in axis\"",
     "output_type": "error",
     "traceback": [
      "\u001b[31m---------------------------------------------------------------------------\u001b[39m",
      "\u001b[31mKeyError\u001b[39m                                  Traceback (most recent call last)",
      "\u001b[36mCell\u001b[39m\u001b[36m \u001b[39m\u001b[32mIn[93]\u001b[39m\u001b[32m, line 1\u001b[39m\n\u001b[32m----> \u001b[39m\u001b[32m1\u001b[39m df_encoded = \u001b[43mdf_encoded\u001b[49m\u001b[43m.\u001b[49m\u001b[43mdrop\u001b[49m\u001b[43m(\u001b[49m\u001b[43mcolumns\u001b[49m\u001b[43m=\u001b[49m\u001b[43m \u001b[49m\u001b[43m[\u001b[49m\u001b[33;43m'\u001b[39;49m\u001b[33;43mUser ID\u001b[39;49m\u001b[33;43m'\u001b[39;49m\u001b[43m,\u001b[49m\u001b[43m \u001b[49m\u001b[33;43m'\u001b[39;49m\u001b[33;43mWorkout Intensity\u001b[39;49m\u001b[33;43m'\u001b[39;49m\u001b[43m,\u001b[49m\u001b[43m \u001b[49m\u001b[33;43m'\u001b[39;49m\u001b[33;43mWorkout Duration (mins)\u001b[39;49m\u001b[33;43m'\u001b[39;49m\u001b[43m,\u001b[49m\u001b[43m \u001b[49m\u001b[33;43m'\u001b[39;49m\u001b[33;43mHeart Rate (bpm)\u001b[39;49m\u001b[33;43m'\u001b[39;49m\u001b[43m,\u001b[49m\u001b[43m \u001b[49m\u001b[33;43m'\u001b[39;49m\u001b[33;43mMood Before Workout\u001b[39;49m\u001b[33;43m'\u001b[39;49m\u001b[43m,\u001b[49m\u001b[43m \u001b[49m\u001b[33;43m'\u001b[39;49m\u001b[33;43mMood After Workout\u001b[39;49m\u001b[33;43m'\u001b[39;49m\u001b[43m,\u001b[49m\u001b[43m \u001b[49m\u001b[33;43m'\u001b[39;49m\u001b[33;43mSleep Hours\u001b[39;49m\u001b[33;43m'\u001b[39;49m\u001b[43m]\u001b[49m\u001b[43m)\u001b[49m\n",
      "\u001b[36mFile \u001b[39m\u001b[32m/opt/homebrew/Caskroom/miniconda/base/lib/python3.12/site-packages/pandas/core/frame.py:5581\u001b[39m, in \u001b[36mDataFrame.drop\u001b[39m\u001b[34m(self, labels, axis, index, columns, level, inplace, errors)\u001b[39m\n\u001b[32m   5433\u001b[39m \u001b[38;5;28;01mdef\u001b[39;00m \u001b[34mdrop\u001b[39m(\n\u001b[32m   5434\u001b[39m     \u001b[38;5;28mself\u001b[39m,\n\u001b[32m   5435\u001b[39m     labels: IndexLabel | \u001b[38;5;28;01mNone\u001b[39;00m = \u001b[38;5;28;01mNone\u001b[39;00m,\n\u001b[32m   (...)\u001b[39m\u001b[32m   5442\u001b[39m     errors: IgnoreRaise = \u001b[33m\"\u001b[39m\u001b[33mraise\u001b[39m\u001b[33m\"\u001b[39m,\n\u001b[32m   5443\u001b[39m ) -> DataFrame | \u001b[38;5;28;01mNone\u001b[39;00m:\n\u001b[32m   5444\u001b[39m \u001b[38;5;250m    \u001b[39m\u001b[33;03m\"\"\"\u001b[39;00m\n\u001b[32m   5445\u001b[39m \u001b[33;03m    Drop specified labels from rows or columns.\u001b[39;00m\n\u001b[32m   5446\u001b[39m \n\u001b[32m   (...)\u001b[39m\u001b[32m   5579\u001b[39m \u001b[33;03m            weight  1.0     0.8\u001b[39;00m\n\u001b[32m   5580\u001b[39m \u001b[33;03m    \"\"\"\u001b[39;00m\n\u001b[32m-> \u001b[39m\u001b[32m5581\u001b[39m     \u001b[38;5;28;01mreturn\u001b[39;00m \u001b[38;5;28;43msuper\u001b[39;49m\u001b[43m(\u001b[49m\u001b[43m)\u001b[49m\u001b[43m.\u001b[49m\u001b[43mdrop\u001b[49m\u001b[43m(\u001b[49m\n\u001b[32m   5582\u001b[39m \u001b[43m        \u001b[49m\u001b[43mlabels\u001b[49m\u001b[43m=\u001b[49m\u001b[43mlabels\u001b[49m\u001b[43m,\u001b[49m\n\u001b[32m   5583\u001b[39m \u001b[43m        \u001b[49m\u001b[43maxis\u001b[49m\u001b[43m=\u001b[49m\u001b[43maxis\u001b[49m\u001b[43m,\u001b[49m\n\u001b[32m   5584\u001b[39m \u001b[43m        \u001b[49m\u001b[43mindex\u001b[49m\u001b[43m=\u001b[49m\u001b[43mindex\u001b[49m\u001b[43m,\u001b[49m\n\u001b[32m   5585\u001b[39m \u001b[43m        \u001b[49m\u001b[43mcolumns\u001b[49m\u001b[43m=\u001b[49m\u001b[43mcolumns\u001b[49m\u001b[43m,\u001b[49m\n\u001b[32m   5586\u001b[39m \u001b[43m        \u001b[49m\u001b[43mlevel\u001b[49m\u001b[43m=\u001b[49m\u001b[43mlevel\u001b[49m\u001b[43m,\u001b[49m\n\u001b[32m   5587\u001b[39m \u001b[43m        \u001b[49m\u001b[43minplace\u001b[49m\u001b[43m=\u001b[49m\u001b[43minplace\u001b[49m\u001b[43m,\u001b[49m\n\u001b[32m   5588\u001b[39m \u001b[43m        \u001b[49m\u001b[43merrors\u001b[49m\u001b[43m=\u001b[49m\u001b[43merrors\u001b[49m\u001b[43m,\u001b[49m\n\u001b[32m   5589\u001b[39m \u001b[43m    \u001b[49m\u001b[43m)\u001b[49m\n",
      "\u001b[36mFile \u001b[39m\u001b[32m/opt/homebrew/Caskroom/miniconda/base/lib/python3.12/site-packages/pandas/core/generic.py:4788\u001b[39m, in \u001b[36mNDFrame.drop\u001b[39m\u001b[34m(self, labels, axis, index, columns, level, inplace, errors)\u001b[39m\n\u001b[32m   4786\u001b[39m \u001b[38;5;28;01mfor\u001b[39;00m axis, labels \u001b[38;5;129;01min\u001b[39;00m axes.items():\n\u001b[32m   4787\u001b[39m     \u001b[38;5;28;01mif\u001b[39;00m labels \u001b[38;5;129;01mis\u001b[39;00m \u001b[38;5;129;01mnot\u001b[39;00m \u001b[38;5;28;01mNone\u001b[39;00m:\n\u001b[32m-> \u001b[39m\u001b[32m4788\u001b[39m         obj = \u001b[43mobj\u001b[49m\u001b[43m.\u001b[49m\u001b[43m_drop_axis\u001b[49m\u001b[43m(\u001b[49m\u001b[43mlabels\u001b[49m\u001b[43m,\u001b[49m\u001b[43m \u001b[49m\u001b[43maxis\u001b[49m\u001b[43m,\u001b[49m\u001b[43m \u001b[49m\u001b[43mlevel\u001b[49m\u001b[43m=\u001b[49m\u001b[43mlevel\u001b[49m\u001b[43m,\u001b[49m\u001b[43m \u001b[49m\u001b[43merrors\u001b[49m\u001b[43m=\u001b[49m\u001b[43merrors\u001b[49m\u001b[43m)\u001b[49m\n\u001b[32m   4790\u001b[39m \u001b[38;5;28;01mif\u001b[39;00m inplace:\n\u001b[32m   4791\u001b[39m     \u001b[38;5;28mself\u001b[39m._update_inplace(obj)\n",
      "\u001b[36mFile \u001b[39m\u001b[32m/opt/homebrew/Caskroom/miniconda/base/lib/python3.12/site-packages/pandas/core/generic.py:4830\u001b[39m, in \u001b[36mNDFrame._drop_axis\u001b[39m\u001b[34m(self, labels, axis, level, errors, only_slice)\u001b[39m\n\u001b[32m   4828\u001b[39m         new_axis = axis.drop(labels, level=level, errors=errors)\n\u001b[32m   4829\u001b[39m     \u001b[38;5;28;01melse\u001b[39;00m:\n\u001b[32m-> \u001b[39m\u001b[32m4830\u001b[39m         new_axis = \u001b[43maxis\u001b[49m\u001b[43m.\u001b[49m\u001b[43mdrop\u001b[49m\u001b[43m(\u001b[49m\u001b[43mlabels\u001b[49m\u001b[43m,\u001b[49m\u001b[43m \u001b[49m\u001b[43merrors\u001b[49m\u001b[43m=\u001b[49m\u001b[43merrors\u001b[49m\u001b[43m)\u001b[49m\n\u001b[32m   4831\u001b[39m     indexer = axis.get_indexer(new_axis)\n\u001b[32m   4833\u001b[39m \u001b[38;5;66;03m# Case for non-unique axis\u001b[39;00m\n\u001b[32m   4834\u001b[39m \u001b[38;5;28;01melse\u001b[39;00m:\n",
      "\u001b[36mFile \u001b[39m\u001b[32m/opt/homebrew/Caskroom/miniconda/base/lib/python3.12/site-packages/pandas/core/indexes/base.py:7070\u001b[39m, in \u001b[36mIndex.drop\u001b[39m\u001b[34m(self, labels, errors)\u001b[39m\n\u001b[32m   7068\u001b[39m \u001b[38;5;28;01mif\u001b[39;00m mask.any():\n\u001b[32m   7069\u001b[39m     \u001b[38;5;28;01mif\u001b[39;00m errors != \u001b[33m\"\u001b[39m\u001b[33mignore\u001b[39m\u001b[33m\"\u001b[39m:\n\u001b[32m-> \u001b[39m\u001b[32m7070\u001b[39m         \u001b[38;5;28;01mraise\u001b[39;00m \u001b[38;5;167;01mKeyError\u001b[39;00m(\u001b[33mf\u001b[39m\u001b[33m\"\u001b[39m\u001b[38;5;132;01m{\u001b[39;00mlabels[mask].tolist()\u001b[38;5;132;01m}\u001b[39;00m\u001b[33m not found in axis\u001b[39m\u001b[33m\"\u001b[39m)\n\u001b[32m   7071\u001b[39m     indexer = indexer[~mask]\n\u001b[32m   7072\u001b[39m \u001b[38;5;28;01mreturn\u001b[39;00m \u001b[38;5;28mself\u001b[39m.delete(indexer)\n",
      "\u001b[31mKeyError\u001b[39m: \"['User ID'] not found in axis\""
     ]
    }
   ],
   "source": [
    "df_encoded = df_encoded.drop(columns= ['User ID', 'Workout Intensity', 'Workout Duration (mins)', 'Heart Rate (bpm)', 'Mood Before Workout', 'Mood After Workout', 'Sleep Hours'])"
   ]
  },
  {
   "cell_type": "code",
   "execution_count": 94,
   "id": "b815c9f4",
   "metadata": {},
   "outputs": [
    {
     "name": "stdout",
     "output_type": "stream",
     "text": [
      "<bound method NDFrame.head of       Age  Gender  Height (cm)  Weight (kg)  Workout Type  \\\n",
      "0      39       1          175           99             1   \n",
      "1      36       2          157          112             0   \n",
      "2      25       0          180           66             2   \n",
      "3      56       1          154           89             1   \n",
      "4      53       2          194           59             4   \n",
      "...   ...     ...          ...          ...           ...   \n",
      "9995   20       2          173           59             5   \n",
      "9996   29       0          171           71             2   \n",
      "9997   47       1          183           75             3   \n",
      "9998   52       1          170           97             2   \n",
      "9999   47       0          186           88             2   \n",
      "\n",
      "      Workout Duration (mins)  Calories Burned  Heart Rate (bpm)  Steps Taken  \\\n",
      "0                          79              384               112         8850   \n",
      "1                          73              612               168         2821   \n",
      "2                          27              540               133        18898   \n",
      "3                          39              672               118        14102   \n",
      "4                          56              410               170        16518   \n",
      "...                       ...              ...               ...          ...   \n",
      "9995                       95              230               160         1330   \n",
      "9996                       83              539               170         3236   \n",
      "9997                       89              886               114        10532   \n",
      "9998                       28              447               102        13690   \n",
      "9999                       56              978               126         8062   \n",
      "\n",
      "      Distance (km)  Workout Intensity  Sleep Hours  Daily Calories Intake  \\\n",
      "0             14.44                  0          8.2                   3195   \n",
      "1              1.10                  0          8.6                   2541   \n",
      "2              7.28                  0          9.8                   3362   \n",
      "3              6.55                  2          5.8                   2071   \n",
      "4              3.17                  2          7.3                   3298   \n",
      "...             ...                ...          ...                    ...   \n",
      "9995          12.83                  2         10.0                   3718   \n",
      "9996           9.74                  1          9.4                   2752   \n",
      "9997          14.51                  2          8.1                   1572   \n",
      "9998           1.43                  1          7.3                   2172   \n",
      "9999          12.24                  0          6.9                   3056   \n",
      "\n",
      "      Resting Heart Rate (bpm)  Mood Before Workout  Mood After Workout  \n",
      "0                           61                    3                   1  \n",
      "1                           73                    0                   0  \n",
      "2                           80                    0                   1  \n",
      "3                           65                    1                   2  \n",
      "4                           59                    2                   0  \n",
      "...                        ...                  ...                 ...  \n",
      "9995                        56                    1                   2  \n",
      "9996                        72                    3                   1  \n",
      "9997                        73                    1                   1  \n",
      "9998                        84                    2                   1  \n",
      "9999                        84                    3                   0  \n",
      "\n",
      "[10000 rows x 16 columns]>\n"
     ]
    }
   ],
   "source": [
    "print(df_encoded.head)"
   ]
  },
  {
   "cell_type": "markdown",
   "id": "883a7f42",
   "metadata": {},
   "source": [
    "## 4. Train-test split"
   ]
  },
  {
   "cell_type": "code",
   "execution_count": 117,
   "id": "943ad6c2",
   "metadata": {},
   "outputs": [],
   "source": [
    "\n",
    "from sklearn.model_selection import RandomizedSearchCV, train_test_split\n",
    "from sklearn.metrics import mean_squared_error, make_scorer\n",
    "from scipy.stats import randint, uniform\n",
    "import numpy as np\n",
    "\n",
    "\n",
    "target_col = 'Calories Burned'\n",
    "X = df_encoded.drop(columns=[target_col])\n",
    "y = df_encoded[target_col]\n",
    "\n",
    "\n",
    "X_train, X_test, y_train, y_test = train_test_split(X, y, random_state=42)\n",
    "\n"
   ]
  },
  {
   "cell_type": "code",
   "execution_count": 120,
   "id": "e72f8a0c",
   "metadata": {},
   "outputs": [
    {
     "name": "stdout",
     "output_type": "stream",
     "text": [
      "R² of gradient boosting model: 0.0783\n"
     ]
    }
   ],
   "source": [
    "from sklearn.ensemble import GradientBoostingRegressor\n",
    "from sklearn.metrics import r2_score\n",
    "\n",
    "model = GradientBoostingRegressor(random_state=42)\n",
    "model.fit(X_train, y_train)\n",
    "\n",
    "y_pred = model.predict(X_train)\n",
    "r2 = r2_score(y_train, y_pred)\n",
    "\n",
    "print(f'R² of gradient boosting model: {r2:.4f}')"
   ]
  },
  {
   "cell_type": "code",
   "execution_count": 126,
   "id": "c578728c",
   "metadata": {},
   "outputs": [
    {
     "name": "stdout",
     "output_type": "stream",
     "text": [
      "Cross-validation accuracy: -1.8% +/- 0.6%\n"
     ]
    }
   ],
   "source": [
    "\n",
    "scores=cross_val_score(\n",
    "    model,\n",
    "    X_train,\n",
    "    y_train,\n",
    "    cv=7,\n",
    "    n_jobs=-1\n",
    ")\n",
    "\n",
    "\n",
    "print(f'Cross-validation accuracy: {np.mean(scores)*100:.1f}% +/- {np.std(scores)*100:.1f}%')"
   ]
  },
  {
   "cell_type": "code",
   "execution_count": 98,
   "id": "f1024208",
   "metadata": {},
   "outputs": [
    {
     "name": "stdout",
     "output_type": "stream",
     "text": [
      "Best hyperparameters:\n",
      "\n",
      " ccp_alpha: 0.01\n",
      " criterion: friedman_mse\n",
      " max_depth: 4\n",
      " max_features: 0.25\n",
      " min_impurity_decrease: 0.001\n",
      " min_samples_leaf: 2\n",
      " min_samples_split: 2\n",
      " min_weight_fraction_leaf: 0.1\n",
      " n_estimators: 200\n",
      "\n"
     ]
    }
   ],
   "source": [
    "hyperparameters={\n",
    "    'n_estimators':[200, 300],\n",
    "    'criterion':['friedman_mse', 'squared_error'],\n",
    "    'max_depth':[4,8,16],\n",
    "    'min_samples_split':[2,4,8],\n",
    "    'min_samples_leaf':[2,4],\n",
    "    'min_weight_fraction_leaf':[0.001,0.01,0.1],\n",
    "    'max_features':[0.25,0.5],\n",
    "    'min_impurity_decrease':[0.001],\n",
    "    'ccp_alpha':[0.0,0.001,0.01],\n",
    "}\n",
    "\n",
    "search=GridSearchCV(\n",
    "    model,\n",
    "    hyperparameters,\n",
    "    return_train_score=True,\n",
    "    cv=3,\n",
    "    n_jobs=-1\n",
    ")\n",
    "\n",
    "search_results=search.fit(X_train, y_train)\n",
    "model=search_results.best_estimator_\n",
    "hyperparameters=search_results.best_params_\n",
    "\n",
    "print('Best hyperparameters:\\n')\n",
    "\n",
    "for key, value in search_results.best_params_.items():\n",
    "    print(f' {key}: {value}')\n",
    "\n",
    "print()"
   ]
  },
  {
   "cell_type": "code",
   "execution_count": 121,
   "id": "e9f1c4ea",
   "metadata": {},
   "outputs": [],
   "source": [
    "import function as funcs"
   ]
  },
  {
   "cell_type": "code",
   "execution_count": 129,
   "id": "d1fe8708",
   "metadata": {},
   "outputs": [
    {
     "data": {
      "image/png": "[encoded data removed]",
      "text/plain": [
       "<Figure size 640x480 with 1 Axes>"
      ]
     },
     "metadata": {},
     "output_type": "display_data"
    }
   ],
   "source": [
    "funcs.plot_cross_validation(search_results)"
   ]
  },
  {
   "cell_type": "code",
   "execution_count": 130,
   "id": "2a52df5b",
   "metadata": {},
   "outputs": [
    {
     "name": "stdout",
     "output_type": "stream",
     "text": [
      "Cross-validation accuracy: -1.6 +/- 0.2%\n"
     ]
    }
   ],
   "source": [
    "scores=cross_val_score(\n",
    "    model,\n",
    "    X_train,\n",
    "    y_train,\n",
    "    n_jobs=-1\n",
    ")\n",
    "\n",
    "cross_val_scores['Model'].extend(['Optimized']*len(scores))\n",
    "cross_val_scores['Score'].extend(scores)\n",
    "\n",
    "print(f'Cross-validation accuracy: {np.mean(scores)*100:.1f} +/- {np.std(scores)*100:.1f}%')"
   ]
  },
  {
   "cell_type": "code",
   "execution_count": 133,
   "id": "c7e2b267",
   "metadata": {},
   "outputs": [
    {
     "name": "stdout",
     "output_type": "stream",
     "text": [
      "R² score: -0.0217\n",
      "Root Mean Squared Error: 264.8494\n"
     ]
    }
   ],
   "source": [
    "from sklearn.metrics import mean_squared_error\n",
    "\n",
    "\n",
    "model = GradientBoostingRegressor(**hyperparameters, random_state=42)\n",
    "\n",
    "\n",
    "model.fit(X_train, y_train)\n",
    "\n",
    "\n",
    "y_pred = model.predict(X_test)\n",
    "\n",
    "from sklearn.metrics import r2_score, mean_squared_error\n",
    "\n",
    "r2 = r2_score(y_test, y_pred)\n",
    "rmse = np.sqrt(mean_squared_error(y_test, y_pred))\n",
    "\n",
    "print(f'R² score: {r2:.4f}')\n",
    "print(f'Root Mean Squared Error: {rmse:.4f}')"
   ]
  },
  {
   "cell_type": "code",
   "execution_count": 125,
   "id": "ab630c23",
   "metadata": {},
   "outputs": [
    {
     "name": "stdout",
     "output_type": "stream",
     "text": [
      "Calories Burned             1.000000\n",
      "Daily Calories Intake       0.010564\n",
      "Distance (km)               0.009488\n",
      "Age                         0.009123\n",
      "Workout Type                0.006961\n",
      "Gender                      0.006921\n",
      "Resting Heart Rate (bpm)    0.005639\n",
      "Steps Taken                 0.001744\n",
      "Sleep Hours                -0.000041\n",
      "Mood After Workout         -0.000172\n",
      "Mood Before Workout        -0.001069\n",
      "Height (cm)                -0.002398\n",
      "Heart Rate (bpm)           -0.006594\n",
      "Workout Duration (mins)    -0.006739\n",
      "Workout Intensity          -0.013890\n",
      "Weight (kg)                -0.023416\n",
      "Name: Calories Burned, dtype: float64\n"
     ]
    }
   ],
   "source": [
    "correlations = df_encoded.corr(numeric_only=True)['Calories Burned'].sort_values(ascending=False)\n",
    "print(correlations)"
   ]
  },
  {
   "cell_type": "code",
   "execution_count": null,
   "id": "5bf7aad2",
   "metadata": {},
   "outputs": [],
   "source": []
  },
  {
   "cell_type": "code",
   "execution_count": null,
   "id": "c1f118f6",
   "metadata": {},
   "outputs": [],
   "source": []
  },
  {
   "cell_type": "code",
   "execution_count": 87,
   "id": "8a8d8568",
   "metadata": {},
   "outputs": [
    {
     "data": {
      "image/png": "[encoded data removed]",
      "text/plain": [
       "<Figure size 640x480 with 1 Axes>"
      ]
     },
     "metadata": {},
     "output_type": "display_data"
    }
   ],
   "source": [
    "sns.boxplot(pd.DataFrame.from_dict(cross_val_scores), x='Model', y='Score')\n",
    "plt.show()"
   ]
  },
  {
   "cell_type": "code",
   "execution_count": null,
   "id": "1bd5586f",
   "metadata": {},
   "outputs": [
    {
     "data": {
      "image/png": "[encoded data removed]",
      "text/plain": [
       "<Figure size 1000x600 with 1 Axes>"
      ]
     },
     "metadata": {},
     "output_type": "display_data"
    }
   ],
   "source": [
    "import matplotlib.pyplot as plt\n",
    "\n",
    "feature_importances = best_model.feature_importances_\n",
    "features = X_train.columns\n",
    "\n",
    "plt.figure(figsize=(10, 6))\n",
    "plt.barh(features, feature_importances)\n",
    "plt.xlabel(\"Importance\")\n",
    "plt.title(\"Feature Importances (Gradient Boosting)\")\n",
    "plt.show()"
   ]
  },
  {
   "cell_type": "code",
   "execution_count": null,
   "id": "67a1efaa",
   "metadata": {},
   "outputs": [],
   "source": [
    "df_dropped = df_encoded.drop(columns=['Gender', 'Workout Type', 'Workout Intensity', 'Mood Before Workout', 'Mood After Workout'], axis=1)"
   ]
  },
  {
   "cell_type": "code",
   "execution_count": null,
   "id": "091c5a8d",
   "metadata": {},
   "outputs": [
    {
     "name": "stderr",
     "output_type": "stream",
     "text": [
      "/opt/homebrew/Caskroom/miniconda/base/lib/python3.12/site-packages/sklearn/model_selection/_search.py:317: UserWarning: The total space of parameters 64 is smaller than n_iter=500. Running 64 iterations. For exhaustive searches, use GridSearchCV.\n",
      "  warnings.warn(\n"
     ]
    },
    {
     "name": "stdout",
     "output_type": "stream",
     "text": [
      "Fitting 5 folds for each of 64 candidates, totalling 320 fits\n",
      "Best parameters found:  {'subsample': 0.8, 'n_estimators': 100, 'min_samples_split': 5, 'min_samples_leaf': 1, 'max_depth': 3, 'learning_rate': 0.05}\n"
     ]
    }
   ],
   "source": [
    "from sklearn.ensemble import GradientBoostingRegressor\n",
    "from sklearn.model_selection import RandomizedSearchCV, train_test_split\n",
    "from sklearn.metrics import mean_squared_error, make_scorer\n",
    "from scipy.stats import randint, uniform\n",
    "import numpy as np\n",
    "\n",
    "# 1. Set up features and target\n",
    "target_col = 'Calories Burned'\n",
    "X = df_dropped.drop(columns=[target_col])\n",
    "y = df_dropped[target_col]\n",
    "\n",
    "# 2. Split data\n",
    "X_train, X_test, y_train, y_test = train_test_split(X, y, random_state=42)\n",
    "\n",
    "# 3. Define base model\n",
    "model = GradientBoostingRegressor(random_state=42)\n",
    "\n",
    "# 4. Define hyperparameter search space\n",
    "param_dist = {\n",
    "    'n_estimators': [100, 200],\n",
    "    'learning_rate': [0.05, 0.1],\n",
    "    'max_depth': [3, 4],\n",
    "    'subsample': [0.8, 1.0],\n",
    "    'min_samples_split': [2, 5],\n",
    "    'min_samples_leaf': [1, 2]\n",
    "}\n",
    "\n",
    "# 5. Search setup\n",
    "scorer = make_scorer(mean_squared_error, greater_is_better=False)\n",
    "search = RandomizedSearchCV(\n",
    "    model,\n",
    "    param_distributions=param_dist,\n",
    "    scoring=scorer,\n",
    "    n_iter=500,        \n",
    "    cv=5,\n",
    "    verbose=1,\n",
    "    n_jobs=-1,\n",
    "    random_state=42\n",
    ")\n",
    "\n",
    "# 6. Run the search\n",
    "search.fit(X_train, y_train)\n",
    "\n",
    "print(\"Best parameters found: \", search.best_params_)"
   ]
  },
  {
   "cell_type": "code",
   "execution_count": null,
   "id": "905215fc",
   "metadata": {},
   "outputs": [
    {
     "data": {
      "image/png": "[encoded data removed]",
      "text/plain": [
       "<Figure size 1000x600 with 1 Axes>"
      ]
     },
     "metadata": {},
     "output_type": "display_data"
    }
   ],
   "source": [
    "import matplotlib.pyplot as plt\n",
    "\n",
    "feature_importances = best_model.feature_importances_\n",
    "features = X_train.columns\n",
    "\n",
    "plt.figure(figsize=(10, 6))\n",
    "plt.barh(features, feature_importances)\n",
    "plt.xlabel(\"Importance\")\n",
    "plt.title(\"Feature Importances (Gradient Boosting)\")\n",
    "plt.show()"
   ]
  },
  {
   "cell_type": "code",
   "execution_count": null,
   "id": "33cd5b5e",
   "metadata": {},
   "outputs": [],
   "source": [
    "df_dropped2 = df_encoded.drop(columns=['User ID', 'Distance (km)'])"
   ]
  },
  {
   "cell_type": "code",
   "execution_count": null,
   "id": "76e3ee62",
   "metadata": {},
   "outputs": [
    {
     "name": "stderr",
     "output_type": "stream",
     "text": [
      "/opt/homebrew/Caskroom/miniconda/base/lib/python3.12/site-packages/sklearn/model_selection/_search.py:317: UserWarning: The total space of parameters 64 is smaller than n_iter=500. Running 64 iterations. For exhaustive searches, use GridSearchCV.\n",
      "  warnings.warn(\n"
     ]
    },
    {
     "name": "stdout",
     "output_type": "stream",
     "text": [
      "Fitting 5 folds for each of 64 candidates, totalling 320 fits\n",
      "Best parameters found:  {'subsample': 1.0, 'n_estimators': 100, 'min_samples_split': 2, 'min_samples_leaf': 1, 'max_depth': 3, 'learning_rate': 0.05}\n"
     ]
    }
   ],
   "source": [
    "from sklearn.ensemble import GradientBoostingRegressor\n",
    "from sklearn.model_selection import RandomizedSearchCV, train_test_split\n",
    "from sklearn.metrics import mean_squared_error, make_scorer\n",
    "from scipy.stats import randint, uniform\n",
    "import numpy as np\n",
    "\n",
    "# 1. Set up features and target\n",
    "target_col = 'Calories Burned'\n",
    "X = df_dropped2.drop(columns=[target_col])\n",
    "y = df_dropped2[target_col]\n",
    "\n",
    "# 2. Split data\n",
    "X_train, X_test, y_train, y_test = train_test_split(X, y, random_state=42)\n",
    "\n",
    "# 3. Define base model\n",
    "model = GradientBoostingRegressor(random_state=42)\n",
    "\n",
    "# 4. Define hyperparameter search space\n",
    "param_dist = {\n",
    "    'n_estimators': [100, 200],\n",
    "    'learning_rate': [0.05, 0.1],\n",
    "    'max_depth': [3, 4],\n",
    "    'subsample': [0.8, 1.0],\n",
    "    'min_samples_split': [2, 5],\n",
    "    'min_samples_leaf': [1, 2]\n",
    "}\n",
    "\n",
    "# 5. Search setup\n",
    "scorer = make_scorer(mean_squared_error, greater_is_better=False)\n",
    "search = RandomizedSearchCV(\n",
    "    model,\n",
    "    param_distributions=param_dist,\n",
    "    scoring=scorer,\n",
    "    n_iter=500,        \n",
    "    cv=5,\n",
    "    verbose=1,\n",
    "    n_jobs=-1,\n",
    "    random_state=42\n",
    ")\n",
    "\n",
    "# 6. Run the search\n",
    "search.fit(X_train, y_train)\n",
    "\n",
    "print(\"Best parameters found: \", search.best_params_)"
   ]
  },
  {
   "cell_type": "code",
   "execution_count": null,
   "id": "d2d3d2bf",
   "metadata": {},
   "outputs": [
    {
     "name": "stdout",
     "output_type": "stream",
     "text": [
      "Best Hyperparameters: {'subsample': 1.0, 'n_estimators': 100, 'min_samples_split': 2, 'min_samples_leaf': 1, 'max_depth': 3, 'learning_rate': 0.05}\n",
      "Test Set Performance\n",
      "R²: -0.00825558633585688\n",
      "RMSE: 263.1068639231969\n"
     ]
    }
   ],
   "source": [
    "from sklearn.metrics import r2_score\n",
    "\n",
    "# Retrieve best model\n",
    "best_model = search.best_estimator_\n",
    "\n",
    "# Predict and evaluate\n",
    "y_pred = best_model.predict(X_test)\n",
    "\n",
    "print(\"Best Hyperparameters:\", search.best_params_)\n",
    "print(\"Test Set Performance\")\n",
    "print(\"R²:\", r2_score(y_test, y_pred))\n",
    "print(\"RMSE:\", np.sqrt(mean_squared_error(y_test, y_pred)))"
   ]
  },
  {
   "cell_type": "code",
   "execution_count": null,
   "id": "f29fe2c6",
   "metadata": {},
   "outputs": [],
   "source": [
    "assert len(X_train) == len(y_train), \"Testing train length\"\n",
    "assert len(X_test) == len(y_test), \"Testing test length\""
   ]
  },
  {
   "cell_type": "code",
   "execution_count": null,
   "id": "b8de589c",
   "metadata": {},
   "outputs": [
    {
     "name": "stdout",
     "output_type": "stream",
     "text": [
      "Linear Regression R²: -0.005194620716218568\n"
     ]
    }
   ],
   "source": [
    "from sklearn.linear_model import LinearRegression\n",
    "\n",
    "lr = LinearRegression()\n",
    "lr.fit(X_train, y_train)\n",
    "y_lr_pred = lr.predict(X_test)\n",
    "\n",
    "print(\"Linear Regression R²:\", r2_score(y_test, y_lr_pred))"
   ]
  },
  {
   "cell_type": "code",
   "execution_count": null,
   "id": "baf39c95",
   "metadata": {},
   "outputs": [
    {
     "name": "stdout",
     "output_type": "stream",
     "text": [
      "Calories Burned             1.000000\n",
      "Daily Calories Intake       0.010564\n",
      "Distance (km)               0.009488\n",
      "Age                         0.009123\n",
      "Workout Type                0.006961\n",
      "Gender                      0.006921\n",
      "Resting Heart Rate (bpm)    0.005639\n",
      "Steps Taken                 0.001744\n",
      "Sleep Hours                -0.000041\n",
      "Mood After Workout         -0.000172\n",
      "Mood Before Workout        -0.001069\n",
      "Height (cm)                -0.002398\n",
      "Heart Rate (bpm)           -0.006594\n",
      "Workout Duration (mins)    -0.006739\n",
      "User ID                    -0.010789\n",
      "Workout Intensity          -0.013890\n",
      "Weight (kg)                -0.023416\n",
      "Name: Calories Burned, dtype: float64\n"
     ]
    }
   ],
   "source": [
    "correlations = df_encoded.corr(numeric_only=True)['Calories Burned'].sort_values(ascending=False)\n",
    "print(correlations)"
   ]
  },
  {
   "cell_type": "markdown",
   "id": "bd75ad5d",
   "metadata": {},
   "source": [
    "## 5. Save assets"
   ]
  },
  {
   "cell_type": "code",
   "execution_count": null,
   "id": "7bbc6053",
   "metadata": {},
   "outputs": [],
   "source": [
    "# Feature information\n",
    "with open('../data/biometric_features.pkl', 'wb') as output_file:\n",
    "    pickle.dump(biometric_features, output_file)\n",
    "\n",
    "with open('../data/input_features.pkl', 'wb') as output_file:\n",
    "    pickle.dump(input_features, output_file)\n",
    "\n",
    "with open('../data/output_features.pkl', 'wb') as output_file:\n",
    "    pickle.dump(output_features, output_file)\n",
    "\n",
    "with open('../data/categorical_features.pkl', 'wb') as output_file:\n",
    "    pickle.dump(categorical_features, output_file)\n",
    "\n",
    "# Data\n",
    "Path('../data/processed').mkdir(exist_ok=True)\n",
    "\n",
    "with open('../data/processed/all.pkl', 'wb') as output_file:\n",
    "    pickle.dump(data_df, output_file)\n",
    "\n",
    "with open('../data/processed/train.pkl', 'wb') as output_file:\n",
    "    pickle.dump(train_df, output_file)\n",
    "\n",
    "with open('../data/processed/test.pkl', 'wb') as output_file:\n",
    "    pickle.dump(test_df, output_file)"
   ]
  }
 ],
 "metadata": {
  "kernelspec": {
   "display_name": "base",
   "language": "python",
   "name": "python3"
  },
  "language_info": {
   "codemirror_mode": {
    "name": "ipython",
    "version": 3
   },
   "file_extension": ".py",
   "mimetype": "text/x-python",
   "name": "python",
   "nbconvert_exporter": "python",
   "pygments_lexer": "ipython3",
   "version": "3.12.2"
  }
 },
 "nbformat": 4,
 "nbformat_minor": 5
}
