{
 "cells": [
  {
   "cell_type": "markdown",
   "id": "3aedab6a",
   "metadata": {},
   "source": [
    "# Data preparation"
   ]
  },
  {
   "cell_type": "code",
   "execution_count": 9,
   "id": "07869300",
   "metadata": {},
   "outputs": [],
   "source": [
    "from pathlib import Path\n",
    "import pickle\n",
    "import pandas as pd\n",
    "from sklearn.preprocessing import OrdinalEncoder\n",
    "from sklearn.model_selection import train_test_split"
   ]
  },
  {
   "cell_type": "markdown",
   "id": "178e1915",
   "metadata": {},
   "source": [
    "## 1. Load raw data"
   ]
  },
  {
   "cell_type": "code",
   "execution_count": 10,
   "id": "4de6c94a",
   "metadata": {},
   "outputs": [],
   "source": [
    "data_df=pd.read_csv('../data/raw/workout_fitness_tracker_data.csv')"
   ]
  },
  {
   "cell_type": "markdown",
   "id": "0832b038",
   "metadata": {},
   "source": [
    "## 2. Select features"
   ]
  },
  {
   "cell_type": "code",
   "execution_count": 11,
   "id": "e2c4bce8",
   "metadata": {},
   "outputs": [
    {
     "name": "stdout",
     "output_type": "stream",
     "text": [
      "<class 'pandas.core.frame.DataFrame'>\n",
      "RangeIndex: 10000 entries, 0 to 9999\n",
      "Data columns (total 20 columns):\n",
      " #   Column                    Non-Null Count  Dtype  \n",
      "---  ------                    --------------  -----  \n",
      " 0   User ID                   10000 non-null  int64  \n",
      " 1   Age                       10000 non-null  int64  \n",
      " 2   Gender                    10000 non-null  object \n",
      " 3   Height (cm)               10000 non-null  int64  \n",
      " 4   Weight (kg)               10000 non-null  int64  \n",
      " 5   Workout Type              10000 non-null  object \n",
      " 6   Workout Duration (mins)   10000 non-null  int64  \n",
      " 7   Calories Burned           10000 non-null  int64  \n",
      " 8   Heart Rate (bpm)          10000 non-null  int64  \n",
      " 9   Steps Taken               10000 non-null  int64  \n",
      " 10  Distance (km)             10000 non-null  float64\n",
      " 11  Workout Intensity         10000 non-null  object \n",
      " 12  Sleep Hours               10000 non-null  float64\n",
      " 13  Water Intake (liters)     10000 non-null  float64\n",
      " 14  Daily Calories Intake     10000 non-null  int64  \n",
      " 15  Resting Heart Rate (bpm)  10000 non-null  int64  \n",
      " 16  VO2 Max                   10000 non-null  float64\n",
      " 17  Body Fat (%)              10000 non-null  float64\n",
      " 18  Mood Before Workout       10000 non-null  object \n",
      " 19  Mood After Workout        10000 non-null  object \n",
      "dtypes: float64(5), int64(10), object(5)\n",
      "memory usage: 1.5+ MB\n"
     ]
    }
   ],
   "source": [
    "data_df.info()\n",
    "\n"
   ]
  },
  {
   "cell_type": "markdown",
   "id": "1b9277c6",
   "metadata": {},
   "source": [
    "Given some self-report biometrics from the user we will build two models that do the following depending on user input:\n",
    "\n",
    "1. Take workout duration and predict calorie burn for each workout type (i.e. 'I am going to work out for X minutes, how many calories will I burn?').\n",
    "2. Take calorie burn and predict duration for each workout type (i.e., 'I want to burn X calories, how long do I need to work out for?').\n",
    "\n",
    "Both models will share a set of input 'biometric' features. These must be things the user is likely to know about themselves. People probably know their weight and age, but probably don't know their VO2 max.\n",
    "\n",
    "The models will differ in one of their input features and their output:\n",
    "\n",
    "1. `calorie_model` needs to take workout duration + biometrics as input features and predict calories burned.\n",
    "2. `time_model` needs to take calories burned + biometrics as input features and predict workout duration. \n",
    "\n",
    "We will use dictionaries to keep everything organized"
   ]
  },
  {
   "cell_type": "code",
   "execution_count": 5,
   "id": "59769762",
   "metadata": {},
   "outputs": [],
   "source": [
    "biometric_features=[\n",
    "    'Age',\n",
    "    'Height (cm)',\n",
    "    'Weight (kg)',\n",
    "    'Sleep Hours',\n",
    "    'Resting Heart Rate (bpm)',\n",
    "]\n",
    "\n",
    "input_features={\n",
    "    'calorie_model': 'Workout Duration (mins)',\n",
    "    'time_model': 'Calories Burned'\n",
    "}\n",
    "\n",
    "output_features={\n",
    "    'calorie_model': 'Calories Burned',\n",
    "    'time_model': 'Workout Duration (mins)'\n",
    "}"
   ]
  },
  {
   "cell_type": "markdown",
   "id": "2620fd11",
   "metadata": {},
   "source": [
    "## 3. Encode categorical features"
   ]
  },
  {
   "cell_type": "code",
   "execution_count": 6,
   "id": "4cf068d4",
   "metadata": {},
   "outputs": [],
   "source": [
    "categorical_features=['Workout Type', 'Gender', 'Workout Intensity', 'Mood Before Workout', 'Mood After Workout']\n",
    "\n",
    "# Your code here... I recommend sklearn's OrdinalEncoder to start with because it will let us keep the \n",
    "# number/names of features constant. We can experiment with improving encoding later if we have time."
   ]
  },
  {
   "cell_type": "code",
   "execution_count": 7,
   "id": "6b8bc510",
   "metadata": {},
   "outputs": [
    {
     "name": "stdout",
     "output_type": "stream",
     "text": [
      "[Workout Type           6\n",
      "Gender                 3\n",
      "Workout Intensity      3\n",
      "Mood Before Workout    4\n",
      "Mood After Workout     3\n",
      "dtype: int64]\n"
     ]
    }
   ],
   "source": [
    "print([df[categorical_features].nunique() for df in [data_df]])"
   ]
  },
  {
   "cell_type": "code",
   "execution_count": 16,
   "id": "74711eec",
   "metadata": {},
   "outputs": [
    {
     "name": "stdout",
     "output_type": "stream",
     "text": [
      "   Workout Type  Gender  Workout Intensity  Mood Before Workout  \\\n",
      "0             1       1                  0                    3   \n",
      "1             0       2                  0                    0   \n",
      "2             2       0                  0                    0   \n",
      "3             1       1                  2                    1   \n",
      "4             4       2                  2                    2   \n",
      "\n",
      "   Mood After Workout  \n",
      "0                   1  \n",
      "1                   0  \n",
      "2                   1  \n",
      "3                   2  \n",
      "4                   0  \n"
     ]
    }
   ],
   "source": [
    "from sklearn.preprocessing import OrdinalEncoder\n",
    "\n",
    "df_encoded = data_df.copy()\n",
    "\n",
    "# Fit and transform only the categorical features\n",
    "encoder = OrdinalEncoder()\n",
    "encoded_values = encoder.fit_transform(data_df[categorical_features])\n",
    "\n",
    "# Convert encoded values to int and assign back\n",
    "df_encoded[categorical_features] = encoded_values.astype(int)\n",
    "\n",
    "# Preview\n",
    "print(df_encoded[categorical_features].head())"
   ]
  },
  {
   "cell_type": "code",
   "execution_count": 22,
   "id": "ba10ff1c",
   "metadata": {},
   "outputs": [],
   "source": [
    "df_encoded = df_encoded.drop(columns=['Water Intake (liters)', 'VO2 Max', 'Body Fat (%)'], axis=1)"
   ]
  },
  {
   "cell_type": "code",
   "execution_count": 23,
   "id": "a44a467e",
   "metadata": {},
   "outputs": [
    {
     "data": {
      "text/html": [
       "<div>\n",
       "<style scoped>\n",
       "    .dataframe tbody tr th:only-of-type {\n",
       "        vertical-align: middle;\n",
       "    }\n",
       "\n",
       "    .dataframe tbody tr th {\n",
       "        vertical-align: top;\n",
       "    }\n",
       "\n",
       "    .dataframe thead th {\n",
       "        text-align: right;\n",
       "    }\n",
       "</style>\n",
       "<table border=\"1\" class=\"dataframe\">\n",
       "  <thead>\n",
       "    <tr style=\"text-align: right;\">\n",
       "      <th></th>\n",
       "      <th>User ID</th>\n",
       "      <th>Age</th>\n",
       "      <th>Gender</th>\n",
       "      <th>Height (cm)</th>\n",
       "      <th>Weight (kg)</th>\n",
       "      <th>Workout Type</th>\n",
       "      <th>Workout Duration (mins)</th>\n",
       "      <th>Calories Burned</th>\n",
       "      <th>Heart Rate (bpm)</th>\n",
       "      <th>Steps Taken</th>\n",
       "      <th>Distance (km)</th>\n",
       "      <th>Workout Intensity</th>\n",
       "      <th>Sleep Hours</th>\n",
       "      <th>Daily Calories Intake</th>\n",
       "      <th>Resting Heart Rate (bpm)</th>\n",
       "      <th>Mood Before Workout</th>\n",
       "      <th>Mood After Workout</th>\n",
       "    </tr>\n",
       "  </thead>\n",
       "  <tbody>\n",
       "    <tr>\n",
       "      <th>0</th>\n",
       "      <td>1</td>\n",
       "      <td>39</td>\n",
       "      <td>1</td>\n",
       "      <td>175</td>\n",
       "      <td>99</td>\n",
       "      <td>1</td>\n",
       "      <td>79</td>\n",
       "      <td>384</td>\n",
       "      <td>112</td>\n",
       "      <td>8850</td>\n",
       "      <td>14.44</td>\n",
       "      <td>0</td>\n",
       "      <td>8.2</td>\n",
       "      <td>3195</td>\n",
       "      <td>61</td>\n",
       "      <td>3</td>\n",
       "      <td>1</td>\n",
       "    </tr>\n",
       "    <tr>\n",
       "      <th>1</th>\n",
       "      <td>2</td>\n",
       "      <td>36</td>\n",
       "      <td>2</td>\n",
       "      <td>157</td>\n",
       "      <td>112</td>\n",
       "      <td>0</td>\n",
       "      <td>73</td>\n",
       "      <td>612</td>\n",
       "      <td>168</td>\n",
       "      <td>2821</td>\n",
       "      <td>1.10</td>\n",
       "      <td>0</td>\n",
       "      <td>8.6</td>\n",
       "      <td>2541</td>\n",
       "      <td>73</td>\n",
       "      <td>0</td>\n",
       "      <td>0</td>\n",
       "    </tr>\n",
       "    <tr>\n",
       "      <th>2</th>\n",
       "      <td>3</td>\n",
       "      <td>25</td>\n",
       "      <td>0</td>\n",
       "      <td>180</td>\n",
       "      <td>66</td>\n",
       "      <td>2</td>\n",
       "      <td>27</td>\n",
       "      <td>540</td>\n",
       "      <td>133</td>\n",
       "      <td>18898</td>\n",
       "      <td>7.28</td>\n",
       "      <td>0</td>\n",
       "      <td>9.8</td>\n",
       "      <td>3362</td>\n",
       "      <td>80</td>\n",
       "      <td>0</td>\n",
       "      <td>1</td>\n",
       "    </tr>\n",
       "    <tr>\n",
       "      <th>3</th>\n",
       "      <td>4</td>\n",
       "      <td>56</td>\n",
       "      <td>1</td>\n",
       "      <td>154</td>\n",
       "      <td>89</td>\n",
       "      <td>1</td>\n",
       "      <td>39</td>\n",
       "      <td>672</td>\n",
       "      <td>118</td>\n",
       "      <td>14102</td>\n",
       "      <td>6.55</td>\n",
       "      <td>2</td>\n",
       "      <td>5.8</td>\n",
       "      <td>2071</td>\n",
       "      <td>65</td>\n",
       "      <td>1</td>\n",
       "      <td>2</td>\n",
       "    </tr>\n",
       "    <tr>\n",
       "      <th>4</th>\n",
       "      <td>5</td>\n",
       "      <td>53</td>\n",
       "      <td>2</td>\n",
       "      <td>194</td>\n",
       "      <td>59</td>\n",
       "      <td>4</td>\n",
       "      <td>56</td>\n",
       "      <td>410</td>\n",
       "      <td>170</td>\n",
       "      <td>16518</td>\n",
       "      <td>3.17</td>\n",
       "      <td>2</td>\n",
       "      <td>7.3</td>\n",
       "      <td>3298</td>\n",
       "      <td>59</td>\n",
       "      <td>2</td>\n",
       "      <td>0</td>\n",
       "    </tr>\n",
       "    <tr>\n",
       "      <th>...</th>\n",
       "      <td>...</td>\n",
       "      <td>...</td>\n",
       "      <td>...</td>\n",
       "      <td>...</td>\n",
       "      <td>...</td>\n",
       "      <td>...</td>\n",
       "      <td>...</td>\n",
       "      <td>...</td>\n",
       "      <td>...</td>\n",
       "      <td>...</td>\n",
       "      <td>...</td>\n",
       "      <td>...</td>\n",
       "      <td>...</td>\n",
       "      <td>...</td>\n",
       "      <td>...</td>\n",
       "      <td>...</td>\n",
       "      <td>...</td>\n",
       "    </tr>\n",
       "    <tr>\n",
       "      <th>9995</th>\n",
       "      <td>9996</td>\n",
       "      <td>20</td>\n",
       "      <td>2</td>\n",
       "      <td>173</td>\n",
       "      <td>59</td>\n",
       "      <td>5</td>\n",
       "      <td>95</td>\n",
       "      <td>230</td>\n",
       "      <td>160</td>\n",
       "      <td>1330</td>\n",
       "      <td>12.83</td>\n",
       "      <td>2</td>\n",
       "      <td>10.0</td>\n",
       "      <td>3718</td>\n",
       "      <td>56</td>\n",
       "      <td>1</td>\n",
       "      <td>2</td>\n",
       "    </tr>\n",
       "    <tr>\n",
       "      <th>9996</th>\n",
       "      <td>9997</td>\n",
       "      <td>29</td>\n",
       "      <td>0</td>\n",
       "      <td>171</td>\n",
       "      <td>71</td>\n",
       "      <td>2</td>\n",
       "      <td>83</td>\n",
       "      <td>539</td>\n",
       "      <td>170</td>\n",
       "      <td>3236</td>\n",
       "      <td>9.74</td>\n",
       "      <td>1</td>\n",
       "      <td>9.4</td>\n",
       "      <td>2752</td>\n",
       "      <td>72</td>\n",
       "      <td>3</td>\n",
       "      <td>1</td>\n",
       "    </tr>\n",
       "    <tr>\n",
       "      <th>9997</th>\n",
       "      <td>9998</td>\n",
       "      <td>47</td>\n",
       "      <td>1</td>\n",
       "      <td>183</td>\n",
       "      <td>75</td>\n",
       "      <td>3</td>\n",
       "      <td>89</td>\n",
       "      <td>886</td>\n",
       "      <td>114</td>\n",
       "      <td>10532</td>\n",
       "      <td>14.51</td>\n",
       "      <td>2</td>\n",
       "      <td>8.1</td>\n",
       "      <td>1572</td>\n",
       "      <td>73</td>\n",
       "      <td>1</td>\n",
       "      <td>1</td>\n",
       "    </tr>\n",
       "    <tr>\n",
       "      <th>9998</th>\n",
       "      <td>9999</td>\n",
       "      <td>52</td>\n",
       "      <td>1</td>\n",
       "      <td>170</td>\n",
       "      <td>97</td>\n",
       "      <td>2</td>\n",
       "      <td>28</td>\n",
       "      <td>447</td>\n",
       "      <td>102</td>\n",
       "      <td>13690</td>\n",
       "      <td>1.43</td>\n",
       "      <td>1</td>\n",
       "      <td>7.3</td>\n",
       "      <td>2172</td>\n",
       "      <td>84</td>\n",
       "      <td>2</td>\n",
       "      <td>1</td>\n",
       "    </tr>\n",
       "    <tr>\n",
       "      <th>9999</th>\n",
       "      <td>10000</td>\n",
       "      <td>47</td>\n",
       "      <td>0</td>\n",
       "      <td>186</td>\n",
       "      <td>88</td>\n",
       "      <td>2</td>\n",
       "      <td>56</td>\n",
       "      <td>978</td>\n",
       "      <td>126</td>\n",
       "      <td>8062</td>\n",
       "      <td>12.24</td>\n",
       "      <td>0</td>\n",
       "      <td>6.9</td>\n",
       "      <td>3056</td>\n",
       "      <td>84</td>\n",
       "      <td>3</td>\n",
       "      <td>0</td>\n",
       "    </tr>\n",
       "  </tbody>\n",
       "</table>\n",
       "<p>10000 rows × 17 columns</p>\n",
       "</div>"
      ],
      "text/plain": [
       "      User ID  Age  Gender  Height (cm)  Weight (kg)  Workout Type  \\\n",
       "0           1   39       1          175           99             1   \n",
       "1           2   36       2          157          112             0   \n",
       "2           3   25       0          180           66             2   \n",
       "3           4   56       1          154           89             1   \n",
       "4           5   53       2          194           59             4   \n",
       "...       ...  ...     ...          ...          ...           ...   \n",
       "9995     9996   20       2          173           59             5   \n",
       "9996     9997   29       0          171           71             2   \n",
       "9997     9998   47       1          183           75             3   \n",
       "9998     9999   52       1          170           97             2   \n",
       "9999    10000   47       0          186           88             2   \n",
       "\n",
       "      Workout Duration (mins)  Calories Burned  Heart Rate (bpm)  Steps Taken  \\\n",
       "0                          79              384               112         8850   \n",
       "1                          73              612               168         2821   \n",
       "2                          27              540               133        18898   \n",
       "3                          39              672               118        14102   \n",
       "4                          56              410               170        16518   \n",
       "...                       ...              ...               ...          ...   \n",
       "9995                       95              230               160         1330   \n",
       "9996                       83              539               170         3236   \n",
       "9997                       89              886               114        10532   \n",
       "9998                       28              447               102        13690   \n",
       "9999                       56              978               126         8062   \n",
       "\n",
       "      Distance (km)  Workout Intensity  Sleep Hours  Daily Calories Intake  \\\n",
       "0             14.44                  0          8.2                   3195   \n",
       "1              1.10                  0          8.6                   2541   \n",
       "2              7.28                  0          9.8                   3362   \n",
       "3              6.55                  2          5.8                   2071   \n",
       "4              3.17                  2          7.3                   3298   \n",
       "...             ...                ...          ...                    ...   \n",
       "9995          12.83                  2         10.0                   3718   \n",
       "9996           9.74                  1          9.4                   2752   \n",
       "9997          14.51                  2          8.1                   1572   \n",
       "9998           1.43                  1          7.3                   2172   \n",
       "9999          12.24                  0          6.9                   3056   \n",
       "\n",
       "      Resting Heart Rate (bpm)  Mood Before Workout  Mood After Workout  \n",
       "0                           61                    3                   1  \n",
       "1                           73                    0                   0  \n",
       "2                           80                    0                   1  \n",
       "3                           65                    1                   2  \n",
       "4                           59                    2                   0  \n",
       "...                        ...                  ...                 ...  \n",
       "9995                        56                    1                   2  \n",
       "9996                        72                    3                   1  \n",
       "9997                        73                    1                   1  \n",
       "9998                        84                    2                   1  \n",
       "9999                        84                    3                   0  \n",
       "\n",
       "[10000 rows x 17 columns]"
      ]
     },
     "execution_count": 23,
     "metadata": {},
     "output_type": "execute_result"
    }
   ],
   "source": [
    "df_encoded"
   ]
  },
  {
   "cell_type": "code",
   "execution_count": 44,
   "id": "bfda8692",
   "metadata": {},
   "outputs": [
    {
     "data": {
      "text/plain": [
       "count    10000.000000\n",
       "mean       552.100800\n",
       "std        260.629908\n",
       "min        100.000000\n",
       "25%        325.000000\n",
       "50%        554.000000\n",
       "75%        776.000000\n",
       "max        999.000000\n",
       "Name: Calories Burned, dtype: float64"
      ]
     },
     "execution_count": 44,
     "metadata": {},
     "output_type": "execute_result"
    }
   ],
   "source": [
    "df_encoded['Calories Burned'].describe()\n",
    "# Split the data into training and testing sets"
   ]
  },
  {
   "cell_type": "code",
   "execution_count": null,
   "id": "358320ac",
   "metadata": {},
   "outputs": [],
   "source": []
  },
  {
   "cell_type": "markdown",
   "id": "883a7f42",
   "metadata": {},
   "source": [
    "## 4. Train-test split"
   ]
  },
  {
   "cell_type": "code",
   "execution_count": 42,
   "id": "943ad6c2",
   "metadata": {},
   "outputs": [
    {
     "name": "stdout",
     "output_type": "stream",
     "text": [
      "Fitting 5 folds for each of 50 candidates, totalling 250 fits\n",
      "Best parameters found:  {'subsample': 0.8, 'n_estimators': 100, 'min_samples_split': 2, 'min_samples_leaf': 2, 'max_depth': 3, 'learning_rate': 0.05}\n"
     ]
    }
   ],
   "source": [
    "from sklearn.ensemble import GradientBoostingRegressor\n",
    "from sklearn.model_selection import RandomizedSearchCV, train_test_split\n",
    "from sklearn.metrics import mean_squared_error, make_scorer\n",
    "from scipy.stats import randint, uniform\n",
    "import numpy as np\n",
    "\n",
    "# 1. Set up features and target\n",
    "target_col = 'Calories Burned'\n",
    "X = df_encoded.drop(columns=[target_col])\n",
    "y = df_encoded[target_col]\n",
    "\n",
    "# 2. Split data\n",
    "X_train, X_test, y_train, y_test = train_test_split(X, y, random_state=42)\n",
    "\n",
    "# 3. Define base model\n",
    "model = GradientBoostingRegressor(random_state=42)\n",
    "\n",
    "# 4. Define hyperparameter search space\n",
    "param_dist = {\n",
    "    'n_estimators': [100, 200],\n",
    "    'learning_rate': [0.05, 0.1],\n",
    "    'max_depth': [3, 4],\n",
    "    'subsample': [0.8, 1.0],\n",
    "    'min_samples_split': [2, 5],\n",
    "    'min_samples_leaf': [1, 2]\n",
    "}\n",
    "\n",
    "# 5. Search setup\n",
    "scorer = make_scorer(mean_squared_error, greater_is_better=False)\n",
    "search = RandomizedSearchCV(\n",
    "    model,\n",
    "    param_distributions=param_dist,\n",
    "    scoring=scorer,\n",
    "    n_iter=50,        # Fewer iterations = faster\n",
    "    cv=5,\n",
    "    verbose=1,\n",
    "    n_jobs=-1,\n",
    "    random_state=42\n",
    ")\n",
    "\n",
    "# 6. Run the search\n",
    "search.fit(X_train, y_train)\n",
    "\n",
    "print(\"Best parameters found: \", search.best_params_)"
   ]
  },
  {
   "cell_type": "code",
   "execution_count": 45,
   "id": "1bd5586f",
   "metadata": {},
   "outputs": [
    {
     "data": {
      "image/png": "[encoded data removed]",
      "text/plain": [
       "<Figure size 1000x600 with 1 Axes>"
      ]
     },
     "metadata": {},
     "output_type": "display_data"
    }
   ],
   "source": [
    "import matplotlib.pyplot as plt\n",
    "\n",
    "feature_importances = best_model.feature_importances_\n",
    "features = X_train.columns\n",
    "\n",
    "plt.figure(figsize=(10, 6))\n",
    "plt.barh(features, feature_importances)\n",
    "plt.xlabel(\"Importance\")\n",
    "plt.title(\"Feature Importances (Gradient Boosting)\")\n",
    "plt.show()"
   ]
  },
  {
   "cell_type": "code",
   "execution_count": 46,
   "id": "67a1efaa",
   "metadata": {},
   "outputs": [],
   "source": [
    "df_dropped = df_encoded.drop(columns=['Gender', 'Workout Type', 'Workout Intensity', 'Mood Before Workout', 'Mood After Workout'], axis=1)"
   ]
  },
  {
   "cell_type": "code",
   "execution_count": 50,
   "id": "091c5a8d",
   "metadata": {},
   "outputs": [
    {
     "name": "stderr",
     "output_type": "stream",
     "text": [
      "/opt/homebrew/Caskroom/miniconda/base/lib/python3.12/site-packages/sklearn/model_selection/_search.py:317: UserWarning: The total space of parameters 64 is smaller than n_iter=500. Running 64 iterations. For exhaustive searches, use GridSearchCV.\n",
      "  warnings.warn(\n"
     ]
    },
    {
     "name": "stdout",
     "output_type": "stream",
     "text": [
      "Fitting 5 folds for each of 64 candidates, totalling 320 fits\n",
      "Best parameters found:  {'subsample': 0.8, 'n_estimators': 100, 'min_samples_split': 5, 'min_samples_leaf': 1, 'max_depth': 3, 'learning_rate': 0.05}\n"
     ]
    }
   ],
   "source": [
    "from sklearn.ensemble import GradientBoostingRegressor\n",
    "from sklearn.model_selection import RandomizedSearchCV, train_test_split\n",
    "from sklearn.metrics import mean_squared_error, make_scorer\n",
    "from scipy.stats import randint, uniform\n",
    "import numpy as np\n",
    "\n",
    "# 1. Set up features and target\n",
    "target_col = 'Calories Burned'\n",
    "X = df_dropped.drop(columns=[target_col])\n",
    "y = df_dropped[target_col]\n",
    "\n",
    "# 2. Split data\n",
    "X_train, X_test, y_train, y_test = train_test_split(X, y, random_state=42)\n",
    "\n",
    "# 3. Define base model\n",
    "model = GradientBoostingRegressor(random_state=42)\n",
    "\n",
    "# 4. Define hyperparameter search space\n",
    "param_dist = {\n",
    "    'n_estimators': [100, 200],\n",
    "    'learning_rate': [0.05, 0.1],\n",
    "    'max_depth': [3, 4],\n",
    "    'subsample': [0.8, 1.0],\n",
    "    'min_samples_split': [2, 5],\n",
    "    'min_samples_leaf': [1, 2]\n",
    "}\n",
    "\n",
    "# 5. Search setup\n",
    "scorer = make_scorer(mean_squared_error, greater_is_better=False)\n",
    "search = RandomizedSearchCV(\n",
    "    model,\n",
    "    param_distributions=param_dist,\n",
    "    scoring=scorer,\n",
    "    n_iter=500,        \n",
    "    cv=5,\n",
    "    verbose=1,\n",
    "    n_jobs=-1,\n",
    "    random_state=42\n",
    ")\n",
    "\n",
    "# 6. Run the search\n",
    "search.fit(X_train, y_train)\n",
    "\n",
    "print(\"Best parameters found: \", search.best_params_)"
   ]
  },
  {
   "cell_type": "code",
   "execution_count": 52,
   "id": "905215fc",
   "metadata": {},
   "outputs": [
    {
     "data": {
      "image/png": "[encoded data removed]",
      "text/plain": [
       "<Figure size 1000x600 with 1 Axes>"
      ]
     },
     "metadata": {},
     "output_type": "display_data"
    }
   ],
   "source": [
    "import matplotlib.pyplot as plt\n",
    "\n",
    "feature_importances = best_model.feature_importances_\n",
    "features = X_train.columns\n",
    "\n",
    "plt.figure(figsize=(10, 6))\n",
    "plt.barh(features, feature_importances)\n",
    "plt.xlabel(\"Importance\")\n",
    "plt.title(\"Feature Importances (Gradient Boosting)\")\n",
    "plt.show()"
   ]
  },
  {
   "cell_type": "code",
   "execution_count": 53,
   "id": "33cd5b5e",
   "metadata": {},
   "outputs": [],
   "source": [
    "df_dropped2 = df_encoded.drop(columns=['User ID', 'Distance (km)'])"
   ]
  },
  {
   "cell_type": "code",
   "execution_count": 54,
   "id": "76e3ee62",
   "metadata": {},
   "outputs": [
    {
     "name": "stderr",
     "output_type": "stream",
     "text": [
      "/opt/homebrew/Caskroom/miniconda/base/lib/python3.12/site-packages/sklearn/model_selection/_search.py:317: UserWarning: The total space of parameters 64 is smaller than n_iter=500. Running 64 iterations. For exhaustive searches, use GridSearchCV.\n",
      "  warnings.warn(\n"
     ]
    },
    {
     "name": "stdout",
     "output_type": "stream",
     "text": [
      "Fitting 5 folds for each of 64 candidates, totalling 320 fits\n",
      "Best parameters found:  {'subsample': 1.0, 'n_estimators': 100, 'min_samples_split': 2, 'min_samples_leaf': 1, 'max_depth': 3, 'learning_rate': 0.05}\n"
     ]
    }
   ],
   "source": [
    "from sklearn.ensemble import GradientBoostingRegressor\n",
    "from sklearn.model_selection import RandomizedSearchCV, train_test_split\n",
    "from sklearn.metrics import mean_squared_error, make_scorer\n",
    "from scipy.stats import randint, uniform\n",
    "import numpy as np\n",
    "\n",
    "# 1. Set up features and target\n",
    "target_col = 'Calories Burned'\n",
    "X = df_dropped2.drop(columns=[target_col])\n",
    "y = df_dropped2[target_col]\n",
    "\n",
    "# 2. Split data\n",
    "X_train, X_test, y_train, y_test = train_test_split(X, y, random_state=42)\n",
    "\n",
    "# 3. Define base model\n",
    "model = GradientBoostingRegressor(random_state=42)\n",
    "\n",
    "# 4. Define hyperparameter search space\n",
    "param_dist = {\n",
    "    'n_estimators': [100, 200],\n",
    "    'learning_rate': [0.05, 0.1],\n",
    "    'max_depth': [3, 4],\n",
    "    'subsample': [0.8, 1.0],\n",
    "    'min_samples_split': [2, 5],\n",
    "    'min_samples_leaf': [1, 2]\n",
    "}\n",
    "\n",
    "# 5. Search setup\n",
    "scorer = make_scorer(mean_squared_error, greater_is_better=False)\n",
    "search = RandomizedSearchCV(\n",
    "    model,\n",
    "    param_distributions=param_dist,\n",
    "    scoring=scorer,\n",
    "    n_iter=500,        \n",
    "    cv=5,\n",
    "    verbose=1,\n",
    "    n_jobs=-1,\n",
    "    random_state=42\n",
    ")\n",
    "\n",
    "# 6. Run the search\n",
    "search.fit(X_train, y_train)\n",
    "\n",
    "print(\"Best parameters found: \", search.best_params_)"
   ]
  },
  {
   "cell_type": "code",
   "execution_count": 2,
   "id": "d2d3d2bf",
   "metadata": {},
   "outputs": [
    {
     "ename": "NameError",
     "evalue": "name 'search' is not defined",
     "output_type": "error",
     "traceback": [
      "\u001b[31m---------------------------------------------------------------------------\u001b[39m",
      "\u001b[31mNameError\u001b[39m                                 Traceback (most recent call last)",
      "\u001b[36mCell\u001b[39m\u001b[36m \u001b[39m\u001b[32mIn[2]\u001b[39m\u001b[32m, line 4\u001b[39m\n\u001b[32m      1\u001b[39m \u001b[38;5;28;01mfrom\u001b[39;00m \u001b[34;01msklearn\u001b[39;00m\u001b[34;01m.\u001b[39;00m\u001b[34;01mmetrics\u001b[39;00m \u001b[38;5;28;01mimport\u001b[39;00m r2_score\n\u001b[32m----> \u001b[39m\u001b[32m4\u001b[39m model = \u001b[43msearch\u001b[49m.best_estimator_\n\u001b[32m      6\u001b[39m \u001b[38;5;66;03m# Predict and evaluate\u001b[39;00m\n\u001b[32m      7\u001b[39m y_pred = model.predict(X_test)\n",
      "\u001b[31mNameError\u001b[39m: name 'search' is not defined"
     ]
    }
   ],
   "source": [
    "from sklearn.metrics import r2_score\n",
    "\n",
    "\n",
    "model = search.best_estimator_\n",
    "\n",
    "# Predict and evaluate\n",
    "y_pred = model.predict(X_test)\n",
    "\n",
    "print(\"Best Hyperparameters:\", search.best_params_)\n",
    "print(\"Test Set Performance\")\n",
    "print(\"R²:\", r2_score(y_test, y_pred))\n",
    "print(\"RMSE:\", np.sqrt(mean_squared_error(y_test, y_pred)))"
   ]
  },
  {
   "cell_type": "code",
   "execution_count": 58,
   "id": "baf39c95",
   "metadata": {},
   "outputs": [
    {
     "name": "stdout",
     "output_type": "stream",
     "text": [
      "Calories Burned             1.000000\n",
      "Daily Calories Intake       0.010564\n",
      "Distance (km)               0.009488\n",
      "Age                         0.009123\n",
      "Workout Type                0.006961\n",
      "Gender                      0.006921\n",
      "Resting Heart Rate (bpm)    0.005639\n",
      "Steps Taken                 0.001744\n",
      "Sleep Hours                -0.000041\n",
      "Mood After Workout         -0.000172\n",
      "Mood Before Workout        -0.001069\n",
      "Height (cm)                -0.002398\n",
      "Heart Rate (bpm)           -0.006594\n",
      "Workout Duration (mins)    -0.006739\n",
      "User ID                    -0.010789\n",
      "Workout Intensity          -0.013890\n",
      "Weight (kg)                -0.023416\n",
      "Name: Calories Burned, dtype: float64\n"
     ]
    }
   ],
   "source": [
    "correlations = df_encoded.corr(numeric_only=True)['Calories Burned'].sort_values(ascending=False)\n",
    "print(correlations)"
   ]
  },
  {
   "cell_type": "markdown",
   "id": "bd75ad5d",
   "metadata": {},
   "source": [
    "## 5. Save assets"
   ]
  },
  {
   "cell_type": "code",
   "execution_count": null,
   "id": "7bbc6053",
   "metadata": {},
   "outputs": [],
   "source": [
    "# Feature information\n",
    "with open('../data/biometric_features.pkl', 'wb') as output_file:\n",
    "    pickle.dump(biometric_features, output_file)\n",
    "\n",
    "with open('../data/input_features.pkl', 'wb') as output_file:\n",
    "    pickle.dump(input_features, output_file)\n",
    "\n",
    "with open('../data/output_features.pkl', 'wb') as output_file:\n",
    "    pickle.dump(output_features, output_file)\n",
    "\n",
    "with open('../data/categorical_features.pkl', 'wb') as output_file:\n",
    "    pickle.dump(categorical_features, output_file)\n",
    "\n",
    "# Data\n",
    "Path('../data/processed').mkdir(exist_ok=True)\n",
    "\n",
    "with open('../data/processed/all.pkl', 'wb') as output_file:\n",
    "    pickle.dump(data_df, output_file)\n",
    "\n",
    "with open('../data/processed/train.pkl', 'wb') as output_file:\n",
    "    pickle.dump(train_df, output_file)\n",
    "\n",
    "with open('../data/processed/test.pkl', 'wb') as output_file:\n",
    "    pickle.dump(test_df, output_file)"
   ]
  }
 ],
 "metadata": {
  "kernelspec": {
   "display_name": "base",
   "language": "python",
   "name": "python3"
  },
  "language_info": {
   "codemirror_mode": {
    "name": "ipython",
    "version": 3
   },
   "file_extension": ".py",
   "mimetype": "text/x-python",
   "name": "python",
   "nbconvert_exporter": "python",
   "pygments_lexer": "ipython3",
   "version": "3.12.2"
  }
 },
 "nbformat": 4,
 "nbformat_minor": 5
}
